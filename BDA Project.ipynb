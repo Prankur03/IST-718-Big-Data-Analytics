{
 "cells": [
  {
   "cell_type": "code",
   "execution_count": 1,
   "metadata": {},
   "outputs": [
    {
     "data": {
      "text/html": [
       "<style scoped>\n",
       "  .ansiout {\n",
       "    display: block;\n",
       "    unicode-bidi: embed;\n",
       "    white-space: pre-wrap;\n",
       "    word-wrap: break-word;\n",
       "    word-break: break-all;\n",
       "    font-family: \"Source Code Pro\", \"Menlo\", monospace;;\n",
       "    font-size: 13px;\n",
       "    color: #555;\n",
       "    margin-left: 4px;\n",
       "    line-height: 19px;\n",
       "  }\n",
       "</style>\n",
       "<div class=\"ansiout\"></div>"
      ]
     },
     "metadata": {},
     "output_type": "display_data"
    }
   ],
   "source": [
    "from pyspark.sql import SparkSession\n",
    "from pyspark.sql import Row\n",
    "import numpy as np\n",
    "import pandas as pd\n",
    "import seaborn as sns\n",
    "import matplotlib.pyplot as plt\n",
    "from pyspark.sql.types import StringType\n",
    "spark = SparkSession.builder.getOrCreate()\n",
    "sc = spark.sparkContext"
   ]
  },
  {
   "cell_type": "code",
   "execution_count": 2,
   "metadata": {},
   "outputs": [
    {
     "data": {
      "text/html": [
       "<style scoped>\n",
       "  .ansiout {\n",
       "    display: block;\n",
       "    unicode-bidi: embed;\n",
       "    white-space: pre-wrap;\n",
       "    word-wrap: break-word;\n",
       "    word-break: break-all;\n",
       "    font-family: \"Source Code Pro\", \"Menlo\", monospace;;\n",
       "    font-size: 13px;\n",
       "    color: #555;\n",
       "    margin-left: 4px;\n",
       "    line-height: 19px;\n",
       "  }\n",
       "</style>\n",
       "<div class=\"ansiout\"></div>"
      ]
     },
     "metadata": {},
     "output_type": "display_data"
    }
   ],
   "source": [
    "train_df = spark.read.option(\"header\", \"true\").option(\"inferSchema\", \"true\").csv('/FileStore/tables/train_reduced.csv')"
   ]
  },
  {
   "cell_type": "code",
   "execution_count": 3,
   "metadata": {},
   "outputs": [
    {
     "data": {
      "text/html": [
       "<style scoped>\n",
       "  .ansiout {\n",
       "    display: block;\n",
       "    unicode-bidi: embed;\n",
       "    white-space: pre-wrap;\n",
       "    word-wrap: break-word;\n",
       "    word-break: break-all;\n",
       "    font-family: \"Source Code Pro\", \"Menlo\", monospace;;\n",
       "    font-size: 13px;\n",
       "    color: #555;\n",
       "    margin-left: 4px;\n",
       "    line-height: 19px;\n",
       "  }\n",
       "</style>\n",
       "<div class=\"ansiout\"></div>"
      ]
     },
     "metadata": {},
     "output_type": "display_data"
    }
   ],
   "source": [
    "cols = ['HasDetections','IsBeta','RtpStateBitfield','IsSxsPassiveMode','AVProductStatesIdentifier','AVProductsInstalled','AVProductsEnabled','HasTpm','CountryIdentifier',\n",
    "        'CityIdentifier','OrganizationIdentifier','GeoNameIdentifier','LocaleEnglishNameIdentifier','OsBuild']\n",
    "\n",
    "for c in cols:\n",
    "  train_df = train_df.withColumn(c, train_df[c].cast(StringType()))"
   ]
  },
  {
   "cell_type": "code",
   "execution_count": 4,
   "metadata": {},
   "outputs": [
    {
     "data": {
      "text/html": [
       "<style scoped>\n",
       "  .ansiout {\n",
       "    display: block;\n",
       "    unicode-bidi: embed;\n",
       "    white-space: pre-wrap;\n",
       "    word-wrap: break-word;\n",
       "    word-break: break-all;\n",
       "    font-family: \"Source Code Pro\", \"Menlo\", monospace;;\n",
       "    font-size: 13px;\n",
       "    color: #555;\n",
       "    margin-left: 4px;\n",
       "    line-height: 19px;\n",
       "  }\n",
       "</style>\n",
       "<div class=\"ansiout\">+--------------------+------------+-------------+---------------+------------+------+----------------+----------------+-------------------------+-------------------------+-------------------+-----------------+------+-----------------+--------------+----------------------+-----------------+---------------------------+-----------+---------+--------+-------+-------+--------------------+--------------------+----------+-----------+---------------+-------+-----+---------------+------------+--------+------------+---------------------+-------------------+------------------------+-------------------------+-------------------------+--------------------------------------+-------------------------------+---------------------+-------------------------------+--------------------------+--------------------------------+--------------------------+-----------------------+----------------------+-------------------------------------------------+-------------------------------------------------+-----------------------------------------------+----------------------------+--------------------------+-------------------------------------+----------------+---------------------+--------------------+--------------------+----------------------+-------------------+--------------------+------------------------+----------------------------------+---------------------------+--------------------------------+--------------------------------+-----------------------+------------------------+--------------------------+------------------------+-----------------+---------------------+-------------------------------------+--------------------------------+--------------------------+-----------------------+----------------------+---------------------+-------------------+---------------------------------------+------------+---------------------+-------------+\n",
       "   MachineIdentifier| ProductName|EngineVersion|     AppVersion|AvSigVersion|IsBeta|RtpStateBitfield|IsSxsPassiveMode|DefaultBrowsersIdentifier|AVProductStatesIdentifier|AVProductsInstalled|AVProductsEnabled|HasTpm|CountryIdentifier|CityIdentifier|OrganizationIdentifier|GeoNameIdentifier|LocaleEnglishNameIdentifier|   Platform|Processor|   OsVer|OsBuild|OsSuite|OsPlatformSubRelease|          OsBuildLab|SkuEdition|IsProtected|AutoSampleOptIn|PuaMode|SMode|IeVerIdentifier| SmartScreen|Firewall|UacLuaenable|Census_MDC2FormFactor|Census_DeviceFamily|Census_OEMNameIdentifier|Census_OEMModelIdentifier|Census_ProcessorCoreCount|Census_ProcessorManufacturerIdentifier|Census_ProcessorModelIdentifier|Census_ProcessorClass|Census_PrimaryDiskTotalCapacity|Census_PrimaryDiskTypeName|Census_SystemVolumeTotalCapacity|Census_HasOpticalDiskDrive|Census_TotalPhysicalRAM|Census_ChassisTypeName|Census_InternalPrimaryDiagonalDisplaySizeInInches|Census_InternalPrimaryDisplayResolutionHorizontal|Census_InternalPrimaryDisplayResolutionVertical|Census_PowerPlatformRoleName|Census_InternalBatteryType|Census_InternalBatteryNumberOfCharges|Census_OSVersion|Census_OSArchitecture|     Census_OSBranch|Census_OSBuildNumber|Census_OSBuildRevision|   Census_OSEdition|    Census_OSSkuName|Census_OSInstallTypeName|Census_OSInstallLanguageIdentifier|Census_OSUILocaleIdentifier|Census_OSWUAutoUpdateOptionsName|Census_IsPortableOperatingSystem|Census_GenuineStateName|Census_ActivationChannel|Census_IsFlightingInternal|Census_IsFlightsDisabled|Census_FlightRing|Census_ThresholdOptIn|Census_FirmwareManufacturerIdentifier|Census_FirmwareVersionIdentifier|Census_IsSecureBootEnabled|Census_IsWIMBootEnabled|Census_IsVirtualDevice|Census_IsTouchEnabled|Census_IsPenCapable|Census_IsAlwaysOnAlwaysConnectedCapable|Wdft_IsGamer|Wdft_RegionIdentifier|HasDetections|\n",
       "+--------------------+------------+-------------+---------------+------------+------+----------------+----------------+-------------------------+-------------------------+-------------------+-----------------+------+-----------------+--------------+----------------------+-----------------+---------------------------+-----------+---------+--------+-------+-------+--------------------+--------------------+----------+-----------+---------------+-------+-----+---------------+------------+--------+------------+---------------------+-------------------+------------------------+-------------------------+-------------------------+--------------------------------------+-------------------------------+---------------------+-------------------------------+--------------------------+--------------------------------+--------------------------+-----------------------+----------------------+-------------------------------------------------+-------------------------------------------------+-----------------------------------------------+----------------------------+--------------------------+-------------------------------------+----------------+---------------------+--------------------+--------------------+----------------------+-------------------+--------------------+------------------------+----------------------------------+---------------------------+--------------------------------+--------------------------------+-----------------------+------------------------+--------------------------+------------------------+-----------------+---------------------+-------------------------------------+--------------------------------+--------------------------+-----------------------+----------------------+---------------------+-------------------+---------------------------------------+------------+---------------------+-------------+\n",
       "2b1e85fc02208388d...|win8defender|  1.1.15200.1|     4.10.209.0|1.275.1244.0|     0|             7.0|               0|                     null|                  53447.0|                1.0|              1.0|     1|               43|      163158.0|                  27.0|             53.0|                         42|   windows8|      x64| 6.3.0.0|   9600|    256|          windows8.1|9600.19125.amd64f...|       Pro|        1.0|              0|   null|  0.0|          333.0|ExistsNotSet|     1.0|         1.0|             Notebook|    Windows.Desktop|                   525.0|                 331271.0|                      4.0|                                   5.0|                         2329.0|                 null|                       476940.0|                       HDD|                        190774.0|                         0|                 4096.0|              Notebook|                                             15.5|                                           1366.0|                                          768.0|                      Mobile|                      lion|                                 74.0|  10.0.14393.693|                amd64|         rs1_release|               14393|                   693|CoreCountrySpecific|CORE_COUNTRYSPECIFIC|                  Update|                              37.0|                        158|                        FullAuto|                               0|             IS_GENUINE|                  Retail|                       0.0|                     0.0|           Retail|                  0.0|                                142.0|                         70261.0|                         1|                    0.0|                   0.0|                    0|                  0|                                    0.0|         0.0|                  7.0|            1|\n",
       "a0de374a438b5ad59...|win8defender|  1.1.15200.1|4.18.1807.18075|1.275.1478.0|     0|             7.0|               0|                     null|                  53447.0|                1.0|              1.0|     1|              171|        5699.0|                  null|            211.0|                        182|  windows10|      x86|10.0.0.0|  16299|    768|                 rs3|16299.15.x86fre.r...|      Home|        1.0|              0|   null|  0.0|          117.0|        null|     1.0|         1.0|          SmallTablet|    Windows.Desktop|                  4915.0|                 317708.0|                      4.0|                                   5.0|                         1848.0|                 null|                        29812.0|                       SSD|                         28794.0|                         0|                 2048.0|               Desktop|                                              8.9|                                           1280.0|                                          800.0|                       Slate|                      null|                        4.294967295E9|  10.0.16299.547|                  x86|         rs3_release|               16299|                   547|               Core|                CORE|                  Update|                              29.0|                        125|            AutoInstallAndReb...|                               0|             IS_GENUINE|                  OEM:DM|                      null|                     0.0|           Retail|                 null|                                142.0|                         40076.0|                         0|                   null|                   0.0|                    1|                  0|                                    1.0|         0.0|                  3.0|            1|\n",
       "0766f82d9b9200c8b...|win8defender|  1.1.15200.1|4.18.1807.18075|1.275.1198.0|     0|             7.0|               0|                     null|                  53447.0|                1.0|              1.0|     1|              214|       15201.0|                  18.0|            277.0|                         75|  windows10|      x64|10.0.0.0|  15063|    256|                 rs2|15063.0.amd64fre....|       Pro|        1.0|              0|   null|  0.0|          108.0|        null|     1.0|         1.0|             Notebook|    Windows.Desktop|                  1443.0|                 328447.0|                      4.0|                                   5.0|                         2697.0|                 null|                       953869.0|                       HDD|                         99385.0|                         0|                 4096.0|                Laptop|                                             15.5|                                           1366.0|                                          768.0|                      Mobile|                      null|                                  0.0| 10.0.15063.1324|                amd64|         rs2_release|               15063|                  1324|       Professional|        PROFESSIONAL|                IBSClean|                               8.0|                         31|                         UNKNOWN|                               0|                OFFLINE|                  Retail|                      null|                     0.0|           Retail|                 null|                                355.0|                          9373.0|                         1|                   null|                   0.0|                    0|                  0|                                    0.0|        null|                 null|            0|\n",
       "e177067f3714d02ea...|win8defender|  1.1.15200.1|4.18.1807.18075|1.275.1011.0|     0|             7.0|               0|                     null|                  53447.0|                1.0|              1.0|     1|              207|      164954.0|                  27.0|            277.0|                         75|  windows10|      x64|10.0.0.0|  14393|    256|                 rs1|14393.2214.amd64f...|       Pro|        1.0|              0|   null|  0.0|           98.0|RequireAdmin|     1.0|         1.0|              Desktop|    Windows.Desktop|                  1953.0|                 202018.0|                      4.0|                                   5.0|                         2549.0|                 null|                       122104.0|                       SSD|                        105167.0|                         1|                 6144.0|               Desktop|                                             23.0|                                           1920.0|                                         1080.0|                     Desktop|                      null|                        4.294967295E9| 10.0.14393.2214|                amd64|         rs1_release|               14393|                  2214|       Professional|        PROFESSIONAL|                IBSClean|                               8.0|                         31|                         UNKNOWN|                               0|             IS_GENUINE|                  Retail|                      null|                     0.0|           Retail|                 null|                                142.0|                         51616.0|                         0|                   null|                   0.0|                    0|                  0|                                    0.0|         0.0|                 13.0|            0|\n",
       "88d04914388d030ff...|win8defender|  1.1.14901.4|   4.13.17134.1| 1.269.873.0|     0|             7.0|               0|                     null|                  53447.0|                1.0|              1.0|     1|                9|       20805.0|                  27.0|            143.0|                        226|  windows10|      x86|10.0.0.0|  17134|    768|                 rs4|17134.1.x86fre.rs...|      Home|        1.0|              0|   null|  0.0|          137.0|        null|     1.0|         1.0|             Notebook|    Windows.Desktop|                  2668.0|                 171228.0|                      2.0|                                   5.0|                         1985.0|                 null|                       476940.0|                       HDD|                        238376.0|                         0|                 4096.0|              Notebook|                                             14.0|                                           1366.0|                                          768.0|                      Mobile|                      null|                                  0.0|    10.0.17134.1|                  x86|         rs4_release|               17134|                     1| CoreSingleLanguage| CORE_SINGLELANGUAGE|                IBSClean|                               9.0|                         34|                         UNKNOWN|                               0|             IS_GENUINE|                  OEM:DM|                      null|                     0.0|          Unknown|                 null|                                628.0|                         26320.0|                         0|                   null|                   0.0|                    0|                  0|                                    0.0|         0.0|                 10.0|            0|\n",
       "343b7cbc5d9e613bb...|win8defender|  1.1.15100.1|4.18.1806.18062| 1.273.438.0|     0|             7.0|               0|                     null|                  53447.0|                1.0|              1.0|     1|               43|       27738.0|                  18.0|             53.0|                         42|  windows10|      x86|10.0.0.0|  16299|    768|                 rs3|16299.15.x86fre.r...|      Home|        1.0|              0|   null|  0.0|          117.0|RequireAdmin|     1.0|         1.0|           Detachable|    Windows.Desktop|                  2668.0|                  35249.0|                      4.0|                                   5.0|                         1853.0|                 null|                        59640.0|                       SSD|                         50789.0|                         0|                 2048.0|              HandHeld|                                             10.0|                                           1920.0|                                         1200.0|                       Slate|                      null|                                  0.0|  10.0.16299.547|                  x86|         rs3_release|               16299|                   547|CoreCountrySpecific|CORE_COUNTRYSPECIFIC|                  Update|                              37.0|                        158|                         UNKNOWN|                               0|             IS_GENUINE|                  Retail|                      null|                     0.0|           Retail|                 null|                                628.0|                         18798.0|                         1|                   null|                   0.0|                    1|                  0|                                    1.0|         0.0|                  7.0|            0|\n",
       "b415333ae59897487...|win8defender|  1.1.15100.1|4.18.1807.18075|1.273.1749.0|     0|             7.0|               0|                     null|                  53447.0|                1.0|              1.0|     1|              214|       61668.0|                  null|            277.0|                         75|  windows10|      x64|10.0.0.0|  17134|    256|                 rs4|17134.1.amd64fre....|       Pro|        1.0|              0|   null|  0.0|          137.0|ExistsNotSet|     1.0|         1.0|             Notebook|    Windows.Desktop|                  1443.0|                 293143.0|                      8.0|                                   5.0|                         2890.0|                 null|                       228936.0|                       SSD|                        149555.0|                         0|                 8192.0|                Laptop|                                             17.3|                                           1600.0|                                          900.0|                      Mobile|                      null|                                  0.0|  10.0.17134.228|                amd64|         rs4_release|               17134|                   228|       Professional|        PROFESSIONAL|          CleanPCRefresh|                               8.0|                         31|                        FullAuto|                               0|             IS_GENUINE|                  Retail|                      null|                     0.0|           Retail|                 null|                                355.0|                         20388.0|                         0|                   null|                   0.0|                    0|                  0|                                    0.0|         0.0|                  1.0|            1|\n",
       "24ebc54e4155b4c21...|win8defender|  1.1.15100.1|4.18.1807.18075| 1.273.810.0|     0|             7.0|               0|                     null|                  53447.0|                1.0|              1.0|     1|               51|       88228.0|                  27.0|             98.0|                        103|  windows10|      x64|10.0.0.0|  16299|    768|                 rs3|16299.15.amd64fre...|      Home|        1.0|              0|   null|  0.0|          117.0|RequireAdmin|     1.0|         1.0|             Notebook|    Windows.Desktop|                  3101.0|                 187866.0|                      4.0|                                   5.0|                         1986.0|                 null|                       476940.0|                       HDD|                        412017.0|                         0|                 4096.0|               Desktop|                                             15.6|                                           1366.0|                                          768.0|                      Mobile|                      lion|                                  0.0|  10.0.16299.371|                amd64|         rs3_release|               16299|                   371|               Core|                CORE|              UUPUpgrade|                               5.0|                         26|                          Notify|                               0|             IS_GENUINE|                  Retail|                       0.0|                     0.0|           Retail|                  0.0|                                142.0|                         13938.0|                         1|                    0.0|                   0.0|                    1|                  0|                                    0.0|         0.0|                  6.0|            1|\n",
       "473b582d94697dbe3...|win8defender|  1.1.15200.1|4.18.1807.18075| 1.275.380.0|     0|             7.0|               0|                     null|                  53447.0|                1.0|              1.0|     1|              201|       21497.0|                  null|            267.0|                        251|  windows10|      x64|10.0.0.0|  17134|    768|                 rs4|17134.1.amd64fre....|      Home|        1.0|              0|   null|  0.0|          137.0|        null|     1.0|         1.0|              Desktop|    Windows.Desktop|                  4589.0|                 313586.0|                     12.0|                                   1.0|                         1256.0|                 null|                       114480.0|                       SSD|                        113913.0|                         0|                 8192.0|               Desktop|                                             21.5|                                           1920.0|                                         1080.0|                     Desktop|                      null|                        4.294967295E9|  10.0.17134.228|                amd64|         rs4_release|               17134|                   228|               Core|                CORE|                   Reset|                              35.0|                        148|                        FullAuto|                               0|             IS_GENUINE|                  Retail|                      null|                     0.0|           Retail|                 null|                                142.0|                          3551.0|                         0|                   null|                   0.0|                    0|                  0|                                    0.0|        null|                 null|            1|\n",
       "f433853caef1e40df...|win8defender|  1.1.15000.2|4.18.1806.18062|1.271.1044.0|     0|             7.0|               0|                     null|                  46781.0|                2.0|              1.0|     1|              149|      162297.0|                  27.0|            181.0|                         56|  windows10|      x64|10.0.0.0|  17134|    768|                 rs4|17134.1.amd64fre....|      Home|        1.0|              0|   null|  0.0|          137.0|RequireAdmin|     1.0|         1.0|             Notebook|    Windows.Desktop|                  2668.0|                 171184.0|                      4.0|                                   5.0|                         2660.0|                 null|                       476940.0|                       HDD|                        428213.0|                         0|                 6144.0|              Notebook|                                             15.5|                                           1920.0|                                         1080.0|                      Mobile|                      li-i|                                  0.0|  10.0.17134.228|                amd64|         rs4_release|               17134|                   228|               Core|                CORE|              UUPUpgrade|                              24.0|                        109|                          Notify|                               0|             IS_GENUINE|                  OEM:DM|                      null|                     0.0|           Retail|                  0.0|                                628.0|                         26440.0|                         1|                    0.0|                   0.0|                    0|                  0|                                    0.0|         0.0|                 15.0|            0|\n",
       "5519686ff06ceab71...|win8defender|  1.1.15200.1|4.18.1807.18075| 1.275.667.0|     0|             7.0|               0|                     null|                  53447.0|                1.0|              1.0|     1|               95|          null|                  27.0|            277.0|                         75|  windows10|      x86|10.0.0.0|  16299|    768|                 rs3|16299.15.x86fre.r...|      Home|        1.0|              0|   null|  0.0|          117.0|RequireAdmin|     1.0|         1.0|              PCOther|    Windows.Desktop|                  2260.0|                 334076.0|                      4.0|                                   5.0|                         1848.0|                 null|                        29600.0|                       SSD|                         28890.0|                         0|                 2048.0|              Notebook|                                             14.0|                                           1366.0|                                          768.0|                       Slate|                      null|                                 15.0|  10.0.16299.492|                  x86|         rs3_release|               16299|                   492|               Core|                CORE|                  Update|                               8.0|                         31|                          Notify|                               0|             IS_GENUINE|                  OEM:DM|                      null|                     0.0|           Retail|                 null|                                513.0|                         40393.0|                         0|                   null|                   0.0|                    0|                  0|                                    1.0|         0.0|                 11.0|            0|\n",
       "b8c34d348e0c605a0...|win8defender|  1.1.15200.1|4.18.1807.18075|1.275.1198.0|     0|             7.0|               0|                     null|                  47238.0|                2.0|              1.0|     1|               68|      119159.0|                  27.0|            276.0|                         74|  windows10|      x64|10.0.0.0|  17134|    768|                 rs4|17134.1.amd64fre....|      Home|        1.0|              0|   null|  0.0|          137.0|        null|     1.0|         1.0|          Convertible|    Windows.Desktop|                  2102.0|                 248411.0|                      4.0|                                   5.0|                         2697.0|                 null|                       122104.0|                       SSD|                        120841.0|                         0|                 8192.0|              Notebook|                                             13.9|                                           1920.0|                                         1080.0|                      Mobile|                      null|                                  0.0|  10.0.17134.285|                amd64|         rs4_release|               17134|                   285|               Core|                CORE|              UUPUpgrade|                               7.0|                         30|                        FullAuto|                               0|             IS_GENUINE|                  OEM:DM|                      null|                     0.0|           Retail|                 null|                                554.0|                         33108.0|                         1|                   null|                   0.0|                    1|                  1|                                    0.0|         0.0|                 12.0|            1|\n",
       "ae5b83200c5b5f8d1...|win8defender|  1.1.15100.1|4.18.1806.18062| 1.273.266.0|     0|             7.0|               0|                     null|                  53447.0|                1.0|              1.0|     1|               35|       95636.0|                  27.0|             45.0|                         60|  windows10|      x64|10.0.0.0|  15063|    256|                 rs2|15063.0.amd64fre....|       Pro|        1.0|              0|   null|  0.0|          108.0|RequireAdmin|     1.0|         1.0|             AllInOne|    Windows.Desktop|                   585.0|                 190253.0|                      4.0|                                   5.0|                         2490.0|                 null|                      1430799.0|                   UNKNOWN|                       1429373.0|                         0|                 6144.0|              AllinOne|                                             24.0|                                           1920.0|                                         1080.0|                 Workstation|                      null|                        4.294967295E9|  10.0.15063.909|                amd64|         rs2_release|               15063|                   909|      ProfessionalN|      PROFESSIONAL_N|                  Update|                               7.0|                         30|                          Notify|                               0|             IS_GENUINE|                  Retail|                      null|                     0.0|           Retail|                 null|                                142.0|                         51050.0|                         0|                   null|                   0.0|                    1|                  0|                                    0.0|         0.0|                  4.0|            1|\n",
       "c7084442a1fc22a78...|win8defender|  1.1.15000.2|4.18.1806.18062| 1.271.334.0|     0|             7.0|               0|                     null|                  61343.0|                2.0|              1.0|     1|               93|       66938.0|                  27.0|            119.0|                         64|  windows10|      x64|10.0.0.0|  16299|    768|                 rs3|16299.431.amd64fr...|      Home|        0.0|              0|   null|  0.0|          117.0|RequireAdmin|     1.0|         1.0|             Notebook|    Windows.Desktop|                  2102.0|                 245824.0|                      4.0|                                   5.0|                         2697.0|                 null|                       953869.0|                       HDD|                        239140.0|                         0|                 8192.0|              Notebook|                                             15.5|                                           1366.0|                                          768.0|                      Mobile|                      null|                                  0.0|  10.0.16299.431|                amd64|rs3_release_svc_e...|               16299|                   431| CoreSingleLanguage| CORE_SINGLELANGUAGE|                 Refresh|                               8.0|                         31|                          Notify|                               0|             IS_GENUINE|                  OEM:DM|                      null|                     0.0|           Retail|                 null|                                554.0|                         33075.0|                         1|                   null|                   0.0|                    0|                  0|                                    0.0|         0.0|                  8.0|            1|\n",
       "62e28c1ef948594f9...|win8defender|  1.1.15200.1|4.18.1807.18075|1.275.1429.0|     0|             7.0|               0|                     null|                  53447.0|                1.0|              1.0|     1|               29|       16280.0|                  18.0|             35.0|                        171|  windows10|      x64|10.0.0.0|  17134|    768|                 rs4|17134.1.amd64fre....|      Home|        1.0|              0|   null|  0.0|          137.0|        null|     1.0|         1.0|             Notebook|    Windows.Desktop|                  1443.0|                 256669.0|                      4.0|                                   5.0|                         2906.0|                 null|                       228936.0|                       SSD|                        227930.0|                         0|                 8192.0|              Portable|                                             15.5|                                           1440.0|                                          900.0|                      Mobile|                      null|                                  0.0|  10.0.17134.228|                amd64|         rs4_release|               17134|                   228| CoreSingleLanguage| CORE_SINGLELANGUAGE|                   Reset|                              26.0|                        119|                        FullAuto|                               0|             IS_GENUINE|                  Retail|                      null|                     0.0|           Retail|                 null|                                355.0|                         19956.0|                         0|                   null|                   0.0|                    0|                  0|                                    0.0|         0.0|                 10.0|            1|\n",
       "b4b6c8b55aa47151c...|win8defender|  1.1.15200.1|4.18.1807.18075| 1.275.850.0|     0|             7.0|               0|                     null|                  53447.0|                1.0|              1.0|     1|              203|      143782.0|                  27.0|            255.0|                         46|  windows10|      x64|10.0.0.0|  17134|    256|                 rs4|17134.1.amd64fre....|       Pro|        1.0|              0|   null|  0.0|          137.0|        null|     1.0|         1.0|              Desktop|    Windows.Desktop|                  1980.0|                 330936.0|                     12.0|                                   5.0|                         3090.0|                 null|                      3815447.0|                       HDD|                       1798636.0|                         0|                32768.0|               Desktop|                                             26.4|                                           1920.0|                                         1080.0|                     Desktop|                      null|                        4.294967295E9|  10.0.17134.228|                amd64|         rs4_release|               17134|                   228|       Professional|        PROFESSIONAL|              UUPUpgrade|                              39.0|                        160|                        FullAuto|                               0|             IS_GENUINE|              OEM:NONSLP|                      null|                     0.0|           Retail|                 null|                                142.0|                         35226.0|                         0|                   null|                   0.0|                    1|                  0|                                    0.0|         0.0|                  7.0|            1|\n",
       "514da661ebb8d57bb...|win8defender|  1.1.13000.0| 4.13.17134.228|1.227.1023.0|     0|             7.0|               0|                    146.0|                  16655.0|                2.0|              1.0|     1|              195|       10222.0|                  27.0|            258.0|                         75|  windows10|      x64|10.0.0.0|  17134|    768|                 rs4|17134.1.amd64fre....|      Home|        1.0|              0|   null|  0.0|          137.0|RequireAdmin|     1.0|         1.0|           Detachable|    Windows.Desktop|                  3150.0|                 313498.0|                      4.0|                                   5.0|                         1920.0|                 null|                       119276.0|                       SSD|                        111726.0|                         0|                 4096.0|                Laptop|                                             10.8|                                           1920.0|                                         1280.0|                       Slate|                      null|                                263.0|  10.0.17134.228|                amd64|         rs4_release|               17134|                   228|               Core|                CORE|                 Upgrade|                               8.0|                         31|                        FullAuto|                               0|             IS_GENUINE|                  Retail|                      null|                     0.0|           Retail|                 null|                                142.0|                          7343.0|                         1|                   null|                   0.0|                    1|                  1|                                    1.0|         0.0|                  1.0|            1|\n",
       "8092b691ae5d64a3f...|win8defender|  1.1.15100.1|4.18.1807.18075|1.273.1568.0|     0|             7.0|               0|                     null|                  53447.0|                1.0|              1.0|     1|               29|      138200.0|                  27.0|             35.0|                        171|  windows10|      x64|10.0.0.0|  16299|    256|                 rs3|16299.431.amd64fr...|       Pro|        1.0|              0|   null|  0.0|          117.0|        null|     1.0|         1.0|              Desktop|    Windows.Desktop|                  2689.0|                 108113.0|                      4.0|                                   5.0|                         2567.0|                 null|                       476940.0|                       HDD|                        476373.0|                         0|                 4096.0|                Laptop|                                             23.0|                                           1920.0|                                         1080.0|                     Desktop|                      null|                        4.294967295E9|  10.0.16299.547|                amd64|rs3_release_svc_e...|               16299|                   547|       Professional|        PROFESSIONAL|              UUPUpgrade|                              26.0|                        119|                         UNKNOWN|                               0|             IS_GENUINE|                  Retail|                      null|                     0.0|           Retail|                 null|                                807.0|                         67498.0|                         0|                   null|                   0.0|                    0|                  0|                                    0.0|         0.0|                 10.0|            1|\n",
       "ebfa70aee79f22b92...|win8defender|  1.1.15100.1|4.18.1806.18062| 1.273.933.0|     0|             7.0|               0|                     null|                     null|               null|             null|     0|              141|       92213.0|                  27.0|            167.0|                        227|windows2016|      x64|10.0.0.0|  14393|    272|                 rs1|14393.2248.amd64f...|    Server|       null|              0|   null|  0.0|           98.0|         Off|    null|         1.0|              Desktop|     Windows.Server|                  5310.0|                 253174.0|                      2.0|                                   5.0|                         3589.0|                 null|                        35840.0|                   UNKNOWN|                         35338.0|                         0|                 6116.0|                 Other|                                             13.3|                                           1024.0|                                          768.0|                     Desktop|                      null|                        4.294967295E9| 10.0.14393.2248|                amd64|         rs1_release|               14393|                  2248| ServerStandardEval|STANDARD_EVALUATI...|                IBSClean|                               8.0|                         31|                  DownloadNotify|                               0|             IS_GENUINE|          Retail:TB:Eval|                      null|                     0.0|           Retail|                 null|                               1040.0|                         11824.0|                         0|                   null|                   1.0|                    0|                  0|                                    0.0|         0.0|                 10.0|            0|\n",
       "0fc03a04ae0fdd5af...|win8defender|  1.1.15100.1| 4.11.15063.447|1.273.1379.0|     0|             7.0|               0|                     null|                  53447.0|                1.0|              1.0|     1|               43|        4976.0|                  27.0|             53.0|                         42|  windows10|      x64|10.0.0.0|  15063|    768|                 rs2|15063.0.amd64fre....|      Home|        1.0|              0|   null|  0.0|          107.0|        null|     1.0|         1.0|             Notebook|    Windows.Desktop|                   525.0|                 331275.0|                      4.0|                                   5.0|                         2998.0|                 null|                       953869.0|                       HDD|                        102111.0|                         0|                 4096.0|              Notebook|                                             15.5|                                           1920.0|                                         1080.0|                      Mobile|                      null|                                 29.0|    10.0.15063.0|                amd64|         rs2_release|               15063|                     0|CoreCountrySpecific|CORE_COUNTRYSPECIFIC|                IBSClean|                              37.0|                        158|                         UNKNOWN|                               0|                OFFLINE|                  OEM:DM|                      null|                     0.0|           Retail|                 null|                                142.0|                         70294.0|                         1|                   null|                   0.0|                    0|                  0|                                    0.0|         0.0|                  7.0|            0|\n",
       "+--------------------+------------+-------------+---------------+------------+------+----------------+----------------+-------------------------+-------------------------+-------------------+-----------------+------+-----------------+--------------+----------------------+-----------------+---------------------------+-----------+---------+--------+-------+-------+--------------------+--------------------+----------+-----------+---------------+-------+-----+---------------+------------+--------+------------+---------------------+-------------------+------------------------+-------------------------+-------------------------+--------------------------------------+-------------------------------+---------------------+-------------------------------+--------------------------+--------------------------------+--------------------------+-----------------------+----------------------+-------------------------------------------------+-------------------------------------------------+-----------------------------------------------+----------------------------+--------------------------+-------------------------------------+----------------+---------------------+--------------------+--------------------+----------------------+-------------------+--------------------+------------------------+----------------------------------+---------------------------+--------------------------------+--------------------------------+-----------------------+------------------------+--------------------------+------------------------+-----------------+---------------------+-------------------------------------+--------------------------------+--------------------------+-----------------------+----------------------+---------------------+-------------------+---------------------------------------+------------+---------------------+-------------+\n",
       "only showing top 20 rows\n",
       "\n",
       "</div>"
      ]
     },
     "metadata": {},
     "output_type": "display_data"
    }
   ],
   "source": [
    "train_df.show()"
   ]
  },
  {
   "cell_type": "code",
   "execution_count": 5,
   "metadata": {},
   "outputs": [
    {
     "data": {
      "text/html": [
       "<style scoped>\n",
       "  .ansiout {\n",
       "    display: block;\n",
       "    unicode-bidi: embed;\n",
       "    white-space: pre-wrap;\n",
       "    word-wrap: break-word;\n",
       "    word-break: break-all;\n",
       "    font-family: \"Source Code Pro\", \"Menlo\", monospace;;\n",
       "    font-size: 13px;\n",
       "    color: #555;\n",
       "    margin-left: 4px;\n",
       "    line-height: 19px;\n",
       "  }\n",
       "</style>\n",
       "<div class=\"ansiout\"></div>"
      ]
     },
     "metadata": {},
     "output_type": "display_data"
    }
   ],
   "source": [
    "df_EDA = train_df.select('HasDetections','MachineIdentifier','ProductName','EngineVersion','AppVersion','AvSigVersion','IsBeta','RtpStateBitfield','IsSxsPassiveMode','DefaultBrowsersIdentifier','AVProductStatesIdentifier','AVProductsInstalled','AVProductsEnabled','HasTpm','CountryIdentifier','CityIdentifier','OrganizationIdentifier','GeoNameIdentifier','LocaleEnglishNameIdentifier','Platform','Processor','OsVer','OsBuild')\n"
   ]
  },
  {
   "cell_type": "code",
   "execution_count": 6,
   "metadata": {},
   "outputs": [
    {
     "data": {
      "text/html": [
       "<style scoped>\n",
       "  .ansiout {\n",
       "    display: block;\n",
       "    unicode-bidi: embed;\n",
       "    white-space: pre-wrap;\n",
       "    word-wrap: break-word;\n",
       "    word-break: break-all;\n",
       "    font-family: \"Source Code Pro\", \"Menlo\", monospace;;\n",
       "    font-size: 13px;\n",
       "    color: #555;\n",
       "    margin-left: 4px;\n",
       "    line-height: 19px;\n",
       "  }\n",
       "</style>\n",
       "<div class=\"ansiout\"></div>"
      ]
     },
     "metadata": {},
     "output_type": "display_data"
    }
   ],
   "source": [
    "df_EDA_pd = df_EDA.toPandas() "
   ]
  },
  {
   "cell_type": "code",
   "execution_count": 7,
   "metadata": {},
   "outputs": [
    {
     "data": {
      "text/html": [
       "<style scoped>\n",
       "  .ansiout {\n",
       "    display: block;\n",
       "    unicode-bidi: embed;\n",
       "    white-space: pre-wrap;\n",
       "    word-wrap: break-word;\n",
       "    word-break: break-all;\n",
       "    font-family: \"Source Code Pro\", \"Menlo\", monospace;;\n",
       "    font-size: 13px;\n",
       "    color: #555;\n",
       "    margin-left: 4px;\n",
       "    line-height: 19px;\n",
       "  }\n",
       "</style>\n",
       "<div class=\"ansiout\">Out[7]: HasDetections                   object\n",
       "MachineIdentifier               object\n",
       "ProductName                     object\n",
       "EngineVersion                   object\n",
       "AppVersion                      object\n",
       "AvSigVersion                    object\n",
       "IsBeta                          object\n",
       "RtpStateBitfield                object\n",
       "IsSxsPassiveMode                object\n",
       "DefaultBrowsersIdentifier      float64\n",
       "AVProductStatesIdentifier       object\n",
       "AVProductsInstalled             object\n",
       "AVProductsEnabled               object\n",
       "HasTpm                          object\n",
       "CountryIdentifier               object\n",
       "CityIdentifier                  object\n",
       "OrganizationIdentifier          object\n",
       "GeoNameIdentifier               object\n",
       "LocaleEnglishNameIdentifier     object\n",
       "Platform                        object\n",
       "Processor                       object\n",
       "OsVer                           object\n",
       "OsBuild                         object\n",
       "dtype: object</div>"
      ]
     },
     "metadata": {},
     "output_type": "display_data"
    }
   ],
   "source": [
    "df_EDA_pd.dtypes"
   ]
  },
  {
   "cell_type": "code",
   "execution_count": 8,
   "metadata": {},
   "outputs": [
    {
     "data": {
      "text/html": [
       "<style scoped>\n",
       "  .ansiout {\n",
       "    display: block;\n",
       "    unicode-bidi: embed;\n",
       "    white-space: pre-wrap;\n",
       "    word-wrap: break-word;\n",
       "    word-break: break-all;\n",
       "    font-family: \"Source Code Pro\", \"Menlo\", monospace;;\n",
       "    font-size: 13px;\n",
       "    color: #555;\n",
       "    margin-left: 4px;\n",
       "    line-height: 19px;\n",
       "  }\n",
       "</style>\n",
       "<div class=\"ansiout\">HasDetections  -  [&#39;1&#39; &#39;0&#39;]\n",
       "MachineIdentifier  -  [&#39;2b1e85fc02208388dd5a0ae4d944c721&#39; &#39;a0de374a438b5ad592631a5c21e2445f&#39;\n",
       " &#39;0766f82d9b9200c8bbbf7d9c67c1752e&#39; ... &#39;064bdaff67c08b21fb081d81651f3d19&#39;\n",
       " &#39;168e3c65268817a1c4c763ad8035db88&#39; &#39;aafd63368e16e0a5b8b155ffa468a80c&#39;]\n",
       "ProductName  -  [&#39;win8defender&#39; &#39;mse&#39; &#39;scep&#39; &#39;mseprerelease&#39; &#39;windowsintune&#39; &#39;fep&#39;]\n",
       "EngineVersion  -  [&#39;1.1.15200.1&#39; &#39;1.1.14901.4&#39; &#39;1.1.15100.1&#39; &#39;1.1.15000.2&#39; &#39;1.1.13000.0&#39;\n",
       " &#39;1.1.14800.3&#39; &#39;1.1.13504.0&#39; &#39;1.1.13701.0&#39; &#39;1.1.13601.0&#39; &#39;1.1.14600.4&#39;\n",
       " &#39;1.1.15300.5&#39; &#39;1.1.14405.2&#39; &#39;1.1.14104.0&#39; &#39;1.1.15300.6&#39; &#39;1.1.13407.0&#39;\n",
       " &#39;1.1.14306.0&#39; &#39;1.1.14700.3&#39; &#39;1.1.13303.0&#39; &#39;1.1.14202.0&#39; &#39;1.1.14500.5&#39;\n",
       " &#39;1.1.14700.5&#39; &#39;1.1.14901.3&#39; &#39;1.1.12902.0&#39; &#39;1.1.14003.0&#39; &#39;1.1.13903.0&#39;\n",
       " &#39;1.1.13103.0&#39; &#39;1.1.14305.0&#39; &#39;1.1.13704.0&#39; &#39;1.1.15000.1&#39; &#39;1.1.13202.0&#39;\n",
       " &#39;1.1.14700.4&#39; &#39;1.1.13804.0&#39; &#39;1.1.14800.1&#39; &#39;1.1.12805.0&#39; &#39;1.1.14201.0&#39;\n",
       " &#39;1.1.14500.2&#39; &#39;1.1.14303.0&#39; &#39;1.1.11701.0&#39; &#39;1.1.12505.0&#39; &#39;1.1.14102.0&#39;\n",
       " &#39;1.1.13902.0&#39; &#39;1.1.11903.0&#39; &#39;1.1.12400.0&#39; &#39;1.1.12101.0&#39; &#39;1.1.14002.0&#39;\n",
       " &#39;1.1.14001.0&#39; &#39;1.1.12706.0&#39; &#39;1.1.13802.0&#39; &#39;1.1.11400.0&#39; &#39;1.1.11804.0&#39;\n",
       " &#39;1.1.13803.0&#39; &#39;1.1.13406.0&#39; &#39;1.1.9700.0&#39; &#39;1.1.14103.0&#39; &#39;1.1.10401.0&#39;\n",
       " &#39;1.1.12002.0&#39;]\n",
       "AppVersion  -  [&#39;4.10.209.0&#39; &#39;4.18.1807.18075&#39; &#39;4.13.17134.1&#39; &#39;4.18.1806.18062&#39;\n",
       " &#39;4.13.17134.228&#39; &#39;4.11.15063.447&#39; &#39;4.12.17007.18022&#39; &#39;4.8.10240.17443&#39;\n",
       " &#39;4.8.10240.17946&#39; &#39;4.9.10586.1106&#39; &#39;4.12.16299.15&#39; &#39;4.10.14393.1794&#39;\n",
       " &#39;4.8.10240.16384&#39; &#39;4.16.17656.18052&#39; &#39;4.10.14393.0&#39; &#39;4.11.15063.1155&#39;\n",
       " &#39;4.14.17639.18041&#39; &#39;4.9.10586.0&#39; &#39;4.10.14393.1198&#39; &#39;4.9.10586.589&#39;\n",
       " &#39;4.18.1809.2&#39; &#39;4.9.10586.962&#39; &#39;4.10.14393.1066&#39; &#39;4.14.17613.18039&#39;\n",
       " &#39;4.9.10586.494&#39; &#39;4.11.15063.0&#39; &#39;4.17.17672.1000&#39; &#39;4.12.17007.18011&#39;\n",
       " &#39;4.8.204.0&#39; &#39;4.10.14393.1613&#39; &#39;4.9.10586.672&#39; &#39;4.9.10586.916&#39;\n",
       " &#39;4.9.10586.965&#39; &#39;4.10.14393.1593&#39; &#39;4.12.17007.17123&#39; &#39;4.9.10586.1045&#39;\n",
       " &#39;4.13.17134.191&#39; &#39;4.10.14393.953&#39; &#39;4.9.218.0&#39; &#39;4.13.17134.112&#39;\n",
       " &#39;4.9.10586.839&#39; &#39;4.8.10240.17394&#39; &#39;4.5.218.0&#39; &#39;4.8.10240.17202&#39;\n",
       " &#39;4.8.207.0&#39; &#39;4.9.10586.873&#39; &#39;4.14.17613.18038&#39; &#39;4.8.10240.17889&#39;\n",
       " &#39;4.8.10240.17354&#39; &#39;4.8.10240.17319&#39; &#39;4.13.17134.319&#39; &#39;4.7.205.0&#39;\n",
       " &#39;4.4.304.0&#39; &#39;4.8.10240.17184&#39; &#39;4.8.10240.17918&#39; &#39;4.10.14393.2273&#39;\n",
       " &#39;4.8.10240.17146&#39; &#39;4.10.205.0&#39; &#39;4.8.10240.17861&#39; &#39;4.6.305.0&#39;\n",
       " &#39;4.8.10240.17914&#39; &#39;4.11.15063.994&#39; &#39;4.8.10240.17797&#39; &#39;4.8.10240.17609&#39;\n",
       " &#39;4.8.10240.17071&#39; &#39;4.18.1807.20063&#39; &#39;4.5.216.0&#39; &#39;4.18.1807.18072&#39;\n",
       " &#39;4.17.17677.1000&#39; &#39;4.10.14393.2457&#39; &#39;4.8.10240.17113&#39; &#39;4.10.14393.2248&#39;\n",
       " &#39;4.12.17007.18021&#39; &#39;4.10.14393.1532&#39; &#39;4.13.17634.1000&#39; &#39;4.17.17682.1000&#39;\n",
       " &#39;4.8.10240.17533&#39; &#39;4.9.10586.456&#39; &#39;4.10.14393.726&#39; &#39;4.8.10240.17770&#39;\n",
       " &#39;4.17.17685.20082&#39; &#39;4.12.17007.17121&#39; &#39;4.16.17656.18051&#39;\n",
       " &#39;4.17.17686.1003&#39; &#39;4.9.10586.1177&#39; &#39;4.15.17666.1000&#39; &#39;4.18.1807.18070&#39;\n",
       " &#39;4.11.15063.1154&#39; &#39;4.8.10240.17446&#39; &#39;4.18.1806.20033&#39; &#39;4.18.1806.20021&#39;\n",
       " &#39;4.15.17655.1000&#39; &#39;4.8.10240.16425&#39; &#39;4.15.17661.1001&#39; &#39;4.15.17650.1001&#39;\n",
       " &#39;4.13.17639.1000&#39; &#39;4.13.17618.1000&#39;]\n",
       "AvSigVersion  -  [&#39;1.275.1244.0&#39; &#39;1.275.1478.0&#39; &#39;1.275.1198.0&#39; ... &#39;1.225.3846.0&#39;\n",
       " &#39;1.225.3368.0&#39; &#39;1.231.1740.0&#39;]\n",
       "IsBeta  -  [&#39;0&#39; &#39;1&#39;]\n",
       "RtpStateBitfield  -  [&#39;7.0&#39; &#39;0.0&#39; None &#39;8.0&#39; &#39;5.0&#39; &#39;3.0&#39; &#39;1.0&#39; &#39;35.0&#39;]\n",
       "IsSxsPassiveMode  -  [&#39;0&#39; &#39;1&#39;]\n",
       "AVProductStatesIdentifier  -  [&#39;53447.0&#39; &#39;46781.0&#39; &#39;47238.0&#39; ... &#39;9838.0&#39; &#39;58121.0&#39; &#39;39203.0&#39;]\n",
       "AVProductsInstalled  -  [&#39;1.0&#39; &#39;2.0&#39; None &#39;3.0&#39; &#39;4.0&#39; &#39;6.0&#39; &#39;5.0&#39;]\n",
       "AVProductsEnabled  -  [&#39;1.0&#39; None &#39;2.0&#39; &#39;0.0&#39; &#39;3.0&#39; &#39;4.0&#39; &#39;5.0&#39;]\n",
       "HasTpm  -  [&#39;1&#39; &#39;0&#39;]\n",
       "CountryIdentifier  -  [&#39;43&#39; &#39;171&#39; &#39;214&#39; &#39;207&#39; &#39;9&#39; &#39;51&#39; &#39;201&#39; &#39;149&#39; &#39;95&#39; &#39;68&#39; &#39;35&#39; &#39;93&#39; &#39;29&#39;\n",
       " &#39;203&#39; &#39;195&#39; &#39;141&#39; &#39;155&#39; &#39;66&#39; &#39;150&#39; &#39;81&#39; &#39;88&#39; &#39;101&#39; &#39;164&#39; &#39;84&#39; &#39;20&#39; &#39;21&#39;\n",
       " &#39;147&#39; &#39;220&#39; &#39;45&#39; &#39;152&#39; &#39;41&#39; &#39;160&#39; &#39;142&#39; &#39;44&#39; &#39;158&#39; &#39;132&#39; &#39;205&#39; &#39;60&#39; &#39;107&#39;\n",
       " &#39;62&#39; &#39;115&#39; &#39;80&#39; &#39;97&#39; &#39;199&#39; &#39;151&#39; &#39;131&#39; &#39;99&#39; &#39;73&#39; &#39;178&#39; &#39;173&#39; &#39;94&#39; &#39;59&#39;\n",
       " &#39;122&#39; &#39;18&#39; &#39;86&#39; &#39;127&#39; &#39;85&#39; &#39;169&#39; &#39;89&#39; &#39;91&#39; &#39;170&#39; &#39;8&#39; &#39;167&#39; &#39;33&#39; &#39;27&#39;\n",
       " &#39;180&#39; &#39;159&#39; &#39;26&#39; &#39;110&#39; &#39;57&#39; &#39;202&#39; &#39;83&#39; &#39;40&#39; &#39;103&#39; &#39;34&#39; &#39;50&#39; &#39;2&#39; &#39;90&#39; &#39;87&#39;\n",
       " &#39;139&#39; &#39;36&#39; &#39;55&#39; &#39;102&#39; &#39;70&#39; &#39;211&#39; &#39;177&#39; &#39;39&#39; &#39;154&#39; &#39;11&#39; &#39;58&#39; &#39;208&#39; &#39;163&#39;\n",
       " &#39;19&#39; &#39;56&#39; &#39;188&#39; &#39;7&#39; &#39;125&#39; &#39;12&#39; &#39;42&#39; &#39;118&#39; &#39;100&#39; &#39;61&#39; &#39;165&#39; &#39;71&#39; &#39;104&#39;\n",
       " &#39;153&#39; &#39;53&#39; &#39;16&#39; &#39;6&#39; &#39;138&#39; &#39;96&#39; &#39;179&#39; &#39;22&#39; &#39;176&#39; &#39;49&#39; &#39;108&#39; &#39;162&#39; &#39;137&#39;\n",
       " &#39;82&#39; &#39;133&#39; &#39;15&#39; &#39;210&#39; &#39;144&#39; &#39;124&#39; &#39;120&#39; &#39;69&#39; &#39;156&#39; &#39;111&#39; &#39;112&#39; &#39;32&#39; &#39;190&#39;\n",
       " &#39;183&#39; &#39;204&#39; &#39;30&#39; &#39;186&#39; &#39;129&#39; &#39;206&#39; &#39;168&#39; &#39;166&#39; &#39;52&#39; &#39;221&#39; &#39;119&#39; &#39;140&#39;\n",
       " &#39;148&#39; &#39;222&#39; &#39;143&#39; &#39;113&#39; &#39;175&#39; &#39;121&#39; &#39;17&#39; &#39;135&#39; &#39;157&#39; &#39;116&#39; &#39;38&#39; &#39;130&#39;\n",
       " &#39;78&#39; &#39;145&#39; &#39;218&#39; &#39;74&#39; &#39;3&#39; &#39;24&#39; &#39;185&#39; &#39;219&#39; &#39;5&#39; &#39;47&#39; &#39;48&#39; &#39;25&#39; &#39;184&#39; &#39;209&#39;\n",
       " &#39;23&#39; &#39;31&#39; &#39;109&#39; &#39;216&#39; &#39;67&#39; &#39;54&#39; &#39;46&#39; &#39;92&#39; &#39;146&#39; &#39;191&#39; &#39;114&#39; &#39;172&#39; &#39;181&#39;\n",
       " &#39;1&#39; &#39;63&#39; &#39;13&#39; &#39;182&#39; &#39;213&#39; &#39;174&#39; &#39;77&#39; &#39;98&#39; &#39;126&#39; &#39;189&#39; &#39;136&#39; &#39;192&#39; &#39;187&#39;\n",
       " &#39;4&#39; &#39;28&#39; &#39;14&#39; &#39;106&#39; &#39;161&#39; &#39;197&#39; &#39;64&#39; &#39;75&#39; &#39;215&#39; &#39;194&#39; &#39;123&#39; &#39;76&#39; &#39;117&#39;\n",
       " &#39;72&#39; &#39;200&#39; &#39;65&#39; &#39;212&#39; &#39;37&#39; &#39;196&#39; &#39;198&#39; &#39;105&#39; &#39;128&#39; &#39;134&#39; &#39;79&#39; &#39;217&#39; &#39;10&#39;\n",
       " &#39;193&#39;]\n",
       "CityIdentifier  -  [&#39;163158.0&#39; &#39;5699.0&#39; &#39;15201.0&#39; ... &#39;65336.0&#39; &#39;148860.0&#39; &#39;71557.0&#39;]\n",
       "OrganizationIdentifier  -  [&#39;27.0&#39; None &#39;18.0&#39; &#39;48.0&#39; &#39;50.0&#39; &#39;37.0&#39; &#39;14.0&#39; &#39;4.0&#39; &#39;47.0&#39; &#39;11.0&#39; &#39;49.0&#39;\n",
       " &#39;33.0&#39; &#39;1.0&#39; &#39;5.0&#39; &#39;36.0&#39; &#39;40.0&#39; &#39;32.0&#39; &#39;10.0&#39; &#39;46.0&#39; &#39;28.0&#39; &#39;3.0&#39; &#39;39.0&#39;\n",
       " &#39;52.0&#39; &#39;22.0&#39; &#39;44.0&#39; &#39;2.0&#39; &#39;42.0&#39; &#39;31.0&#39; &#39;45.0&#39; &#39;8.0&#39; &#39;20.0&#39; &#39;6.0&#39; &#39;7.0&#39;\n",
       " &#39;30.0&#39; &#39;51.0&#39; &#39;16.0&#39; &#39;21.0&#39; &#39;26.0&#39; &#39;19.0&#39; &#39;12.0&#39; &#39;43.0&#39; &#39;29.0&#39; &#39;35.0&#39;\n",
       " &#39;41.0&#39; &#39;25.0&#39;]\n",
       "GeoNameIdentifier  -  [&#39;53.0&#39; &#39;211.0&#39; &#39;277.0&#39; &#39;143.0&#39; &#39;98.0&#39; &#39;267.0&#39; &#39;181.0&#39; &#39;276.0&#39; &#39;45.0&#39;\n",
       " &#39;119.0&#39; &#39;35.0&#39; &#39;255.0&#39; &#39;258.0&#39; &#39;167.0&#39; &#39;201.0&#39; &#39;89.0&#39; &#39;192.0&#39; &#39;107.0&#39;\n",
       " &#39;117.0&#39; &#39;129.0&#39; &#39;205.0&#39; &#39;115.0&#39; &#39;39.0&#39; &#39;287.0&#39; &#39;237.0&#39; &#39;63.0&#39; &#39;184.0&#39;\n",
       " &#39;52.0&#39; &#39;204.0&#39; &#39;57.0&#39; &#39;202.0&#39; &#39;240.0&#39; &#39;138.0&#39; &#39;88.0&#39; &#39;101.0&#39; &#39;126.0&#39;\n",
       " &#39;10.0&#39; &#39;157.0&#39; &#39;230.0&#39; &#39;224.0&#39; &#39;122.0&#39; &#39;77.0&#39; &#39;187.0&#39; &#39;155.0&#39; &#39;274.0&#39;\n",
       " &#39;114.0&#39; &#39;209.0&#39; &#39;156.0&#39; &#39;19.0&#39; &#39;120.0&#39; &#39;233.0&#39; &#39;15.0&#39; &#39;121.0&#39; &#39;38.0&#39;\n",
       " &#39;76.0&#39; &#39;111.0&#39; &#39;25.0&#39; &#39;68.0&#39; &#39;125.0&#39; &#39;127.0&#39; &#39;123.0&#39; &#39;251.0&#39; &#39;252.0&#39;\n",
       " &#39;198.0&#39; &#39;275.0&#39; &#39;81.0&#39; &#39;282.0&#39; &#39;196.0&#39; &#39;21.0&#39; &#39;24.0&#39; &#39;78.0&#39; &#39;29.0&#39;\n",
       " &#39;194.0&#39; &#39;226.0&#39; &#39;133.0&#39; &#39;195.0&#39; &#39;90.0&#39; &#39;71.0&#39; &#39;32.0&#39; &#39;150.0&#39; &#39;16.0&#39;\n",
       " &#39;180.0&#39; &#39;165.0&#39; &#39;118.0&#39; &#39;234.0&#39; &#39;286.0&#39; &#39;266.0&#39; &#39;64.0&#39; &#39;160.0&#39; &#39;17.0&#39;\n",
       " &#39;246.0&#39; &#39;94.0&#39; &#39;91.0&#39; &#39;2.0&#39; &#39;145.0&#39; &#39;134.0&#39; &#39;75.0&#39; &#39;207.0&#39; &#39;67.0&#39; &#39;30.0&#39;\n",
       " &#39;18.0&#39; &#39;69.0&#39; &#39;186.0&#39; &#39;193.0&#39; &#39;154.0&#39; &#39;281.0&#39; &#39;33.0&#39; &#39;99.0&#39; &#39;273.0&#39;\n",
       " &#39;206.0&#39; &#39;135.0&#39; &#39;3.0&#39; &#39;213.0&#39; &#39;73.0&#39; &#39;151.0&#39; &#39;44.0&#39; &#39;185.0&#39; &#39;200.0&#39;\n",
       " &#39;295.0&#39; &#39;199.0&#39; &#39;244.0&#39; &#39;23.0&#39; &#39;140.0&#39; &#39;177.0&#39; &#39;170.0&#39; &#39;264.0&#39; &#39;152.0&#39;\n",
       " &#39;175.0&#39; &#39;144.0&#39; &#39;40.0&#39; &#39;158.0&#39; &#39;112.0&#39; &#39;104.0&#39; &#39;147.0&#39; &#39;183.0&#39; &#39;100.0&#39;\n",
       " &#39;241.0&#39; &#39;178.0&#39; &#39;208.0&#39; &#39;46.0&#39; &#39;257.0&#39; &#39;253.0&#39; &#39;66.0&#39; &#39;27.0&#39; &#39;97.0&#39; &#39;5.0&#39;\n",
       " &#39;59.0&#39; &#39;248.0&#39; &#39;1.0&#39; &#39;47.0&#39; &#39;283.0&#39; &#39;82.0&#39; &#39;48.0&#39; &#39;65.0&#39; &#39;293.0&#39; &#39;43.0&#39;\n",
       " &#39;11.0&#39; &#39;159.0&#39; &#39;263.0&#39; &#39;87.0&#39; &#39;6.0&#39; &#39;288.0&#39; &#39;153.0&#39; &#39;225.0&#39; &#39;12.0&#39;\n",
       " &#39;166.0&#39; &#39;269.0&#39; &#39;176.0&#39; &#39;28.0&#39; &#39;141.0&#39; &#39;9.0&#39; &#39;172.0&#39; &#39;142.0&#39; &#39;74.0&#39;\n",
       " &#39;22.0&#39; &#39;148.0&#39; &#39;163.0&#39; &#39;294.0&#39; &#39;296.0&#39; &#39;103.0&#39; &#39;247.0&#39; &#39;215.0&#39; &#39;171.0&#39;\n",
       " &#39;113.0&#39; &#39;70.0&#39; &#39;37.0&#39; &#39;105.0&#39; &#39;228.0&#39; &#39;232.0&#39; &#39;168.0&#39; &#39;102.0&#39; &#39;284.0&#39;\n",
       " &#39;212.0&#39; &#39;60.0&#39; &#39;271.0&#39; &#39;96.0&#39; &#39;242.0&#39; &#39;146.0&#39; &#39;227.0&#39; &#39;182.0&#39; &#39;173.0&#39;\n",
       " &#39;131.0&#39; &#39;243.0&#39; &#39;218.0&#39; &#39;256.0&#39; &#39;8.0&#39; &#39;222.0&#39; &#39;26.0&#39; &#39;50.0&#39; &#39;162.0&#39;\n",
       " &#39;109.0&#39; &#39;85.0&#39; &#39;164.0&#39; &#39;239.0&#39; &#39;86.0&#39; &#39;4.0&#39; &#39;49.0&#39; &#39;137.0&#39; &#39;80.0&#39; &#39;285.0&#39;\n",
       " &#39;174.0&#39; &#39;235.0&#39; &#39;268.0&#39; &#39;31.0&#39; &#39;58.0&#39; &#39;236.0&#39; &#39;223.0&#39; None &#39;149.0&#39;\n",
       " &#39;261.0&#39; &#39;41.0&#39; &#39;54.0&#39; &#39;128.0&#39; &#39;245.0&#39; &#39;289.0&#39; &#39;270.0&#39; &#39;291.0&#39; &#39;188.0&#39;\n",
       " &#39;161.0&#39; &#39;250.0&#39; &#39;259.0&#39; &#39;272.0&#39; &#39;42.0&#39; &#39;79.0&#39; &#39;216.0&#39; &#39;238.0&#39; &#39;110.0&#39;\n",
       " &#39;56.0&#39; &#39;262.0&#39; &#39;36.0&#39; &#39;179.0&#39; &#39;229.0&#39; &#39;7.0&#39; &#39;203.0&#39; &#39;214.0&#39; &#39;292.0&#39;\n",
       " &#39;108.0&#39; &#39;84.0&#39; &#39;278.0&#39; &#39;189.0&#39; &#39;191.0&#39; &#39;254.0&#39; &#39;190.0&#39; &#39;61.0&#39; &#39;221.0&#39;\n",
       " &#39;34.0&#39; &#39;139.0&#39; &#39;231.0&#39; &#39;93.0&#39; &#39;220.0&#39; &#39;169.0&#39; &#39;249.0&#39; &#39;265.0&#39; &#39;197.0&#39;]\n",
       "LocaleEnglishNameIdentifier  -  [&#39;42&#39; &#39;182&#39; &#39;75&#39; &#39;226&#39; &#39;103&#39; &#39;251&#39; &#39;56&#39; &#39;74&#39; &#39;60&#39; &#39;64&#39; &#39;171&#39; &#39;46&#39; &#39;227&#39;\n",
       " &#39;231&#39; &#39;88&#39; &#39;224&#39; &#39;115&#39; &#39;126&#39; &#39;172&#39; &#39;44&#39; &#39;34&#39; &#39;72&#39; &#39;219&#39; &#39;217&#39; &#39;170&#39; &#39;218&#39;\n",
       " &#39;70&#39; &#39;233&#39; &#39;134&#39; &#39;80&#39; &#39;107&#39; &#39;124&#39; &#39;214&#39; &#39;68&#39; &#39;71&#39; &#39;162&#39; &#39;16&#39; &#39;7&#39; &#39;253&#39;\n",
       " &#39;225&#39; &#39;179&#39; &#39;118&#39; &#39;262&#39; &#39;210&#39; &#39;58&#39; &#39;168&#39; &#39;69&#39; &#39;222&#39; &#39;246&#39; &#39;83&#39; &#39;59&#39; &#39;51&#39;\n",
       " &#39;113&#39; &#39;67&#39; &#39;66&#39; &#39;278&#39; &#39;229&#39; &#39;77&#39; &#39;236&#39; &#39;81&#39; &#39;8&#39; &#39;215&#39; &#39;277&#39; &#39;52&#39; &#39;223&#39;\n",
       " &#39;97&#39; &#39;32&#39; &#39;140&#39; &#39;102&#39; &#39;116&#39; &#39;211&#39; &#39;237&#39; &#39;36&#39; &#39;106&#39; &#39;149&#39; &#39;55&#39; &#39;61&#39; &#39;239&#39;\n",
       " &#39;49&#39; &#39;221&#39; &#39;216&#39; &#39;90&#39; &#39;14&#39; &#39;266&#39; &#39;235&#39; &#39;232&#39; &#39;169&#39; &#39;82&#39; &#39;234&#39; &#39;9&#39; &#39;65&#39;\n",
       " &#39;129&#39; &#39;228&#39; &#39;230&#39; &#39;76&#39; &#39;10&#39; &#39;263&#39; &#39;29&#39; &#39;73&#39; &#39;202&#39; &#39;45&#39; &#39;139&#39; &#39;181&#39; &#39;63&#39;\n",
       " &#39;25&#39; &#39;15&#39; &#39;94&#39; &#39;95&#39; &#39;5&#39; &#39;101&#39; &#39;147&#39; &#39;105&#39; &#39;178&#39; &#39;183&#39; &#39;161&#39; &#39;265&#39; &#39;21&#39;\n",
       " &#39;91&#39; &#39;92&#39; &#39;22&#39; &#39;100&#39; &#39;144&#39; &#39;96&#39; &#39;160&#39; &#39;79&#39; &#39;11&#39; &#39;125&#39; &#39;19&#39; &#39;154&#39; &#39;50&#39;\n",
       " &#39;43&#39; &#39;17&#39; &#39;93&#39; &#39;12&#39; &#39;20&#39; &#39;114&#39; &#39;1&#39; &#39;269&#39; &#39;18&#39; &#39;142&#39; &#39;2&#39; &#39;238&#39; &#39;201&#39; &#39;283&#39;\n",
       " &#39;271&#39; &#39;13&#39; &#39;6&#39; &#39;199&#39; &#39;159&#39; &#39;85&#39; &#39;157&#39; &#39;30&#39; &#39;186&#39; &#39;143&#39; &#39;33&#39; &#39;282&#39; &#39;192&#39;\n",
       " &#39;198&#39; &#39;87&#39; &#39;260&#39; &#39;205&#39; &#39;180&#39; &#39;123&#39; &#39;62&#39; &#39;276&#39; &#39;272&#39; &#39;166&#39; &#39;104&#39; &#39;163&#39; &#39;3&#39;\n",
       " &#39;174&#39; &#39;243&#39; &#39;209&#39; &#39;164&#39; &#39;26&#39; &#39;24&#39; &#39;194&#39; &#39;274&#39; &#39;89&#39; &#39;23&#39; &#39;200&#39; &#39;240&#39; &#39;245&#39;\n",
       " &#39;208&#39; &#39;196&#39; &#39;155&#39; &#39;132&#39; &#39;27&#39; &#39;197&#39; &#39;78&#39; &#39;220&#39; &#39;35&#39; &#39;121&#39; &#39;48&#39; &#39;31&#39; &#39;84&#39;\n",
       " &#39;109&#39; &#39;242&#39; &#39;188&#39; &#39;273&#39; &#39;150&#39; &#39;112&#39; &#39;212&#39; &#39;119&#39; &#39;4&#39; &#39;280&#39; &#39;267&#39; &#39;130&#39;\n",
       " &#39;136&#39; &#39;173&#39; &#39;255&#39; &#39;110&#39; &#39;177&#39; &#39;54&#39; &#39;145&#39; &#39;117&#39; &#39;40&#39; &#39;270&#39; &#39;148&#39; &#39;47&#39;\n",
       " &#39;184&#39; &#39;175&#39; &#39;158&#39; &#39;141&#39; &#39;176&#39; &#39;108&#39; &#39;39&#39; &#39;252&#39; &#39;248&#39; &#39;53&#39; &#39;135&#39; &#39;98&#39;\n",
       " &#39;167&#39; &#39;241&#39; &#39;187&#39; &#39;111&#39; &#39;127&#39; &#39;189&#39; &#39;86&#39; &#39;131&#39; &#39;38&#39; &#39;138&#39; &#39;152&#39; &#39;185&#39;\n",
       " &#39;133&#39; &#39;275&#39;]\n",
       "Platform  -  [&#39;windows8&#39; &#39;windows10&#39; &#39;windows2016&#39; &#39;windows7&#39;]\n",
       "Processor  -  [&#39;x64&#39; &#39;x86&#39; &#39;arm64&#39;]\n",
       "OsVer  -  [&#39;6.3.0.0&#39; &#39;10.0.0.0&#39; &#39;6.1.1.0&#39; &#39;10.0.3.0&#39; &#39;6.1.0.0&#39; &#39;10.0.1.0&#39; &#39;10.0.2.0&#39;\n",
       " &#39;6.1.3.0&#39; &#39;10.0.5.18&#39; &#39;6.3.1.0&#39; &#39;10.0.4.0&#39; &#39;10.0.3.80&#39; &#39;10.0.0.1&#39;\n",
       " &#39;6.3.3.0&#39; &#39;6.3.7.0&#39; &#39;10.0.80.0&#39;]\n",
       "OsBuild  -  [&#39;9600&#39; &#39;16299&#39; &#39;15063&#39; &#39;14393&#39; &#39;17134&#39; &#39;10240&#39; &#39;10586&#39; &#39;7601&#39; &#39;17672&#39;\n",
       " &#39;17751&#39; &#39;17738&#39; &#39;17735&#39; &#39;17755&#39; &#39;17758&#39; &#39;17733&#39; &#39;17754&#39; &#39;17692&#39; &#39;17744&#39;\n",
       " &#39;17763&#39; &#39;7600&#39; &#39;17713&#39; &#39;17746&#39; &#39;17686&#39; &#39;17741&#39; &#39;17760&#39; &#39;17682&#39; &#39;18237&#39;\n",
       " &#39;17677&#39; &#39;18234&#39; &#39;17634&#39; &#39;18236&#39; &#39;17661&#39; &#39;17666&#39; &#39;17627&#39; &#39;17730&#39; &#39;17704&#39;\n",
       " &#39;18242&#39; &#39;17655&#39; &#39;17639&#39; &#39;17728&#39; &#39;18204&#39; &#39;18214&#39; &#39;17711&#39; &#39;17133&#39; &#39;18219&#39;\n",
       " &#39;17650&#39; &#39;17747&#39; &#39;17740&#39; &#39;17723&#39; &#39;17750&#39; &#39;17618&#39;]\n",
       "</div>"
      ]
     },
     "metadata": {},
     "output_type": "display_data"
    }
   ],
   "source": [
    "for c in df_EDA_pd:\n",
    "    if df_EDA_pd[c].dtypes.name == 'object':\n",
    "        print(c,\" - \",df_EDA_pd[c].unique())"
   ]
  },
  {
   "cell_type": "code",
   "execution_count": 9,
   "metadata": {},
   "outputs": [
    {
     "data": {
      "text/html": [
       "<style scoped>\n",
       "  .ansiout {\n",
       "    display: block;\n",
       "    unicode-bidi: embed;\n",
       "    white-space: pre-wrap;\n",
       "    word-wrap: break-word;\n",
       "    word-break: break-all;\n",
       "    font-family: \"Source Code Pro\", \"Menlo\", monospace;;\n",
       "    font-size: 13px;\n",
       "    color: #555;\n",
       "    margin-left: 4px;\n",
       "    line-height: 19px;\n",
       "  }\n",
       "</style>\n",
       "<div class=\"ansiout\">(700000, 23)\n",
       "Out[9]: HasDetections                   0.000000\n",
       "MachineIdentifier               0.000000\n",
       "ProductName                     0.000000\n",
       "EngineVersion                   0.000000\n",
       "AppVersion                      0.000000\n",
       "AvSigVersion                    0.000000\n",
       "IsBeta                          0.000000\n",
       "RtpStateBitfield                0.359429\n",
       "IsSxsPassiveMode                0.000000\n",
       "DefaultBrowsersIdentifier      95.121571\n",
       "AVProductStatesIdentifier       0.407571\n",
       "AVProductsInstalled             0.407571\n",
       "AVProductsEnabled               0.407571\n",
       "HasTpm                          0.000000\n",
       "CountryIdentifier               0.000000\n",
       "CityIdentifier                  3.661000\n",
       "OrganizationIdentifier         30.845571\n",
       "GeoNameIdentifier               0.002143\n",
       "LocaleEnglishNameIdentifier     0.000000\n",
       "Platform                        0.000000\n",
       "Processor                       0.000000\n",
       "OsVer                           0.000000\n",
       "OsBuild                         0.000000\n",
       "dtype: float64</div>"
      ]
     },
     "metadata": {},
     "output_type": "display_data"
    }
   ],
   "source": [
    "print(df_EDA_pd.shape)\n",
    "(df_EDA_pd.isnull().sum()/df_EDA_pd.shape[0])*100"
   ]
  },
  {
   "cell_type": "code",
   "execution_count": 10,
   "metadata": {},
   "outputs": [
    {
     "data": {
      "text/html": [
       "<style scoped>\n",
       "  .ansiout {\n",
       "    display: block;\n",
       "    unicode-bidi: embed;\n",
       "    white-space: pre-wrap;\n",
       "    word-wrap: break-word;\n",
       "    word-break: break-all;\n",
       "    font-family: \"Source Code Pro\", \"Menlo\", monospace;;\n",
       "    font-size: 13px;\n",
       "    color: #555;\n",
       "    margin-left: 4px;\n",
       "    line-height: 19px;\n",
       "  }\n",
       "</style>\n",
       "<div class=\"ansiout\"></div>"
      ]
     },
     "metadata": {},
     "output_type": "display_data"
    }
   ],
   "source": [
    "df_EDA_pd = df_EDA_pd.drop(columns=['DefaultBrowsersIdentifier'])"
   ]
  },
  {
   "cell_type": "code",
   "execution_count": 11,
   "metadata": {},
   "outputs": [
    {
     "data": {
      "text/html": [
       "<style scoped>\n",
       "  .ansiout {\n",
       "    display: block;\n",
       "    unicode-bidi: embed;\n",
       "    white-space: pre-wrap;\n",
       "    word-wrap: break-word;\n",
       "    word-break: break-all;\n",
       "    font-family: \"Source Code Pro\", \"Menlo\", monospace;;\n",
       "    font-size: 13px;\n",
       "    color: #555;\n",
       "    margin-left: 4px;\n",
       "    line-height: 19px;\n",
       "  }\n",
       "</style>\n",
       "<div class=\"ansiout\">HasDetections  -  2  -  [&#39;1&#39; &#39;0&#39;]\n",
       "MachineIdentifier  -  700000  -  [&#39;2b1e85fc02208388dd5a0ae4d944c721&#39; &#39;a0de374a438b5ad592631a5c21e2445f&#39;\n",
       " &#39;0766f82d9b9200c8bbbf7d9c67c1752e&#39; ... &#39;064bdaff67c08b21fb081d81651f3d19&#39;\n",
       " &#39;168e3c65268817a1c4c763ad8035db88&#39; &#39;aafd63368e16e0a5b8b155ffa468a80c&#39;]\n",
       "ProductName  -  6  -  [&#39;win8defender&#39; &#39;mse&#39; &#39;scep&#39; &#39;mseprerelease&#39; &#39;windowsintune&#39; &#39;fep&#39;]\n",
       "EngineVersion  -  56  -  [&#39;1.1.15200.1&#39; &#39;1.1.14901.4&#39; &#39;1.1.15100.1&#39; &#39;1.1.15000.2&#39; &#39;1.1.13000.0&#39;\n",
       " &#39;1.1.14800.3&#39; &#39;1.1.13504.0&#39; &#39;1.1.13701.0&#39; &#39;1.1.13601.0&#39; &#39;1.1.14600.4&#39;\n",
       " &#39;1.1.15300.5&#39; &#39;1.1.14405.2&#39; &#39;1.1.14104.0&#39; &#39;1.1.15300.6&#39; &#39;1.1.13407.0&#39;\n",
       " &#39;1.1.14306.0&#39; &#39;1.1.14700.3&#39; &#39;1.1.13303.0&#39; &#39;1.1.14202.0&#39; &#39;1.1.14500.5&#39;\n",
       " &#39;1.1.14700.5&#39; &#39;1.1.14901.3&#39; &#39;1.1.12902.0&#39; &#39;1.1.14003.0&#39; &#39;1.1.13903.0&#39;\n",
       " &#39;1.1.13103.0&#39; &#39;1.1.14305.0&#39; &#39;1.1.13704.0&#39; &#39;1.1.15000.1&#39; &#39;1.1.13202.0&#39;\n",
       " &#39;1.1.14700.4&#39; &#39;1.1.13804.0&#39; &#39;1.1.14800.1&#39; &#39;1.1.12805.0&#39; &#39;1.1.14201.0&#39;\n",
       " &#39;1.1.14500.2&#39; &#39;1.1.14303.0&#39; &#39;1.1.11701.0&#39; &#39;1.1.12505.0&#39; &#39;1.1.14102.0&#39;\n",
       " &#39;1.1.13902.0&#39; &#39;1.1.11903.0&#39; &#39;1.1.12400.0&#39; &#39;1.1.12101.0&#39; &#39;1.1.14002.0&#39;\n",
       " &#39;1.1.14001.0&#39; &#39;1.1.12706.0&#39; &#39;1.1.13802.0&#39; &#39;1.1.11400.0&#39; &#39;1.1.11804.0&#39;\n",
       " &#39;1.1.13803.0&#39; &#39;1.1.13406.0&#39; &#39;1.1.9700.0&#39; &#39;1.1.14103.0&#39; &#39;1.1.10401.0&#39;\n",
       " &#39;1.1.12002.0&#39;]\n",
       "AppVersion  -  97  -  [&#39;4.10.209.0&#39; &#39;4.18.1807.18075&#39; &#39;4.13.17134.1&#39; &#39;4.18.1806.18062&#39;\n",
       " &#39;4.13.17134.228&#39; &#39;4.11.15063.447&#39; &#39;4.12.17007.18022&#39; &#39;4.8.10240.17443&#39;\n",
       " &#39;4.8.10240.17946&#39; &#39;4.9.10586.1106&#39; &#39;4.12.16299.15&#39; &#39;4.10.14393.1794&#39;\n",
       " &#39;4.8.10240.16384&#39; &#39;4.16.17656.18052&#39; &#39;4.10.14393.0&#39; &#39;4.11.15063.1155&#39;\n",
       " &#39;4.14.17639.18041&#39; &#39;4.9.10586.0&#39; &#39;4.10.14393.1198&#39; &#39;4.9.10586.589&#39;\n",
       " &#39;4.18.1809.2&#39; &#39;4.9.10586.962&#39; &#39;4.10.14393.1066&#39; &#39;4.14.17613.18039&#39;\n",
       " &#39;4.9.10586.494&#39; &#39;4.11.15063.0&#39; &#39;4.17.17672.1000&#39; &#39;4.12.17007.18011&#39;\n",
       " &#39;4.8.204.0&#39; &#39;4.10.14393.1613&#39; &#39;4.9.10586.672&#39; &#39;4.9.10586.916&#39;\n",
       " &#39;4.9.10586.965&#39; &#39;4.10.14393.1593&#39; &#39;4.12.17007.17123&#39; &#39;4.9.10586.1045&#39;\n",
       " &#39;4.13.17134.191&#39; &#39;4.10.14393.953&#39; &#39;4.9.218.0&#39; &#39;4.13.17134.112&#39;\n",
       " &#39;4.9.10586.839&#39; &#39;4.8.10240.17394&#39; &#39;4.5.218.0&#39; &#39;4.8.10240.17202&#39;\n",
       " &#39;4.8.207.0&#39; &#39;4.9.10586.873&#39; &#39;4.14.17613.18038&#39; &#39;4.8.10240.17889&#39;\n",
       " &#39;4.8.10240.17354&#39; &#39;4.8.10240.17319&#39; &#39;4.13.17134.319&#39; &#39;4.7.205.0&#39;\n",
       " &#39;4.4.304.0&#39; &#39;4.8.10240.17184&#39; &#39;4.8.10240.17918&#39; &#39;4.10.14393.2273&#39;\n",
       " &#39;4.8.10240.17146&#39; &#39;4.10.205.0&#39; &#39;4.8.10240.17861&#39; &#39;4.6.305.0&#39;\n",
       " &#39;4.8.10240.17914&#39; &#39;4.11.15063.994&#39; &#39;4.8.10240.17797&#39; &#39;4.8.10240.17609&#39;\n",
       " &#39;4.8.10240.17071&#39; &#39;4.18.1807.20063&#39; &#39;4.5.216.0&#39; &#39;4.18.1807.18072&#39;\n",
       " &#39;4.17.17677.1000&#39; &#39;4.10.14393.2457&#39; &#39;4.8.10240.17113&#39; &#39;4.10.14393.2248&#39;\n",
       " &#39;4.12.17007.18021&#39; &#39;4.10.14393.1532&#39; &#39;4.13.17634.1000&#39; &#39;4.17.17682.1000&#39;\n",
       " &#39;4.8.10240.17533&#39; &#39;4.9.10586.456&#39; &#39;4.10.14393.726&#39; &#39;4.8.10240.17770&#39;\n",
       " &#39;4.17.17685.20082&#39; &#39;4.12.17007.17121&#39; &#39;4.16.17656.18051&#39;\n",
       " &#39;4.17.17686.1003&#39; &#39;4.9.10586.1177&#39; &#39;4.15.17666.1000&#39; &#39;4.18.1807.18070&#39;\n",
       " &#39;4.11.15063.1154&#39; &#39;4.8.10240.17446&#39; &#39;4.18.1806.20033&#39; &#39;4.18.1806.20021&#39;\n",
       " &#39;4.15.17655.1000&#39; &#39;4.8.10240.16425&#39; &#39;4.15.17661.1001&#39; &#39;4.15.17650.1001&#39;\n",
       " &#39;4.13.17639.1000&#39; &#39;4.13.17618.1000&#39;]\n",
       "AvSigVersion  -  6917  -  [&#39;1.275.1244.0&#39; &#39;1.275.1478.0&#39; &#39;1.275.1198.0&#39; ... &#39;1.225.3846.0&#39;\n",
       " &#39;1.225.3368.0&#39; &#39;1.231.1740.0&#39;]\n",
       "IsBeta  -  2  -  [&#39;0&#39; &#39;1&#39;]\n",
       "RtpStateBitfield  -  8  -  [&#39;7.0&#39; &#39;0.0&#39; None &#39;8.0&#39; &#39;5.0&#39; &#39;3.0&#39; &#39;1.0&#39; &#39;35.0&#39;]\n",
       "IsSxsPassiveMode  -  2  -  [&#39;0&#39; &#39;1&#39;]\n",
       "AVProductStatesIdentifier  -  6661  -  [&#39;53447.0&#39; &#39;46781.0&#39; &#39;47238.0&#39; ... &#39;9838.0&#39; &#39;58121.0&#39; &#39;39203.0&#39;]\n",
       "AVProductsInstalled  -  7  -  [&#39;1.0&#39; &#39;2.0&#39; None &#39;3.0&#39; &#39;4.0&#39; &#39;6.0&#39; &#39;5.0&#39;]\n",
       "AVProductsEnabled  -  7  -  [&#39;1.0&#39; None &#39;2.0&#39; &#39;0.0&#39; &#39;3.0&#39; &#39;4.0&#39; &#39;5.0&#39;]\n",
       "HasTpm  -  2  -  [&#39;1&#39; &#39;0&#39;]\n",
       "CountryIdentifier  -  222  -  [&#39;43&#39; &#39;171&#39; &#39;214&#39; &#39;207&#39; &#39;9&#39; &#39;51&#39; &#39;201&#39; &#39;149&#39; &#39;95&#39; &#39;68&#39; &#39;35&#39; &#39;93&#39; &#39;29&#39;\n",
       " &#39;203&#39; &#39;195&#39; &#39;141&#39; &#39;155&#39; &#39;66&#39; &#39;150&#39; &#39;81&#39; &#39;88&#39; &#39;101&#39; &#39;164&#39; &#39;84&#39; &#39;20&#39; &#39;21&#39;\n",
       " &#39;147&#39; &#39;220&#39; &#39;45&#39; &#39;152&#39; &#39;41&#39; &#39;160&#39; &#39;142&#39; &#39;44&#39; &#39;158&#39; &#39;132&#39; &#39;205&#39; &#39;60&#39; &#39;107&#39;\n",
       " &#39;62&#39; &#39;115&#39; &#39;80&#39; &#39;97&#39; &#39;199&#39; &#39;151&#39; &#39;131&#39; &#39;99&#39; &#39;73&#39; &#39;178&#39; &#39;173&#39; &#39;94&#39; &#39;59&#39;\n",
       " &#39;122&#39; &#39;18&#39; &#39;86&#39; &#39;127&#39; &#39;85&#39; &#39;169&#39; &#39;89&#39; &#39;91&#39; &#39;170&#39; &#39;8&#39; &#39;167&#39; &#39;33&#39; &#39;27&#39;\n",
       " &#39;180&#39; &#39;159&#39; &#39;26&#39; &#39;110&#39; &#39;57&#39; &#39;202&#39; &#39;83&#39; &#39;40&#39; &#39;103&#39; &#39;34&#39; &#39;50&#39; &#39;2&#39; &#39;90&#39; &#39;87&#39;\n",
       " &#39;139&#39; &#39;36&#39; &#39;55&#39; &#39;102&#39; &#39;70&#39; &#39;211&#39; &#39;177&#39; &#39;39&#39; &#39;154&#39; &#39;11&#39; &#39;58&#39; &#39;208&#39; &#39;163&#39;\n",
       " &#39;19&#39; &#39;56&#39; &#39;188&#39; &#39;7&#39; &#39;125&#39; &#39;12&#39; &#39;42&#39; &#39;118&#39; &#39;100&#39; &#39;61&#39; &#39;165&#39; &#39;71&#39; &#39;104&#39;\n",
       " &#39;153&#39; &#39;53&#39; &#39;16&#39; &#39;6&#39; &#39;138&#39; &#39;96&#39; &#39;179&#39; &#39;22&#39; &#39;176&#39; &#39;49&#39; &#39;108&#39; &#39;162&#39; &#39;137&#39;\n",
       " &#39;82&#39; &#39;133&#39; &#39;15&#39; &#39;210&#39; &#39;144&#39; &#39;124&#39; &#39;120&#39; &#39;69&#39; &#39;156&#39; &#39;111&#39; &#39;112&#39; &#39;32&#39; &#39;190&#39;\n",
       " &#39;183&#39; &#39;204&#39; &#39;30&#39; &#39;186&#39; &#39;129&#39; &#39;206&#39; &#39;168&#39; &#39;166&#39; &#39;52&#39; &#39;221&#39; &#39;119&#39; &#39;140&#39;\n",
       " &#39;148&#39; &#39;222&#39; &#39;143&#39; &#39;113&#39; &#39;175&#39; &#39;121&#39; &#39;17&#39; &#39;135&#39; &#39;157&#39; &#39;116&#39; &#39;38&#39; &#39;130&#39;\n",
       " &#39;78&#39; &#39;145&#39; &#39;218&#39; &#39;74&#39; &#39;3&#39; &#39;24&#39; &#39;185&#39; &#39;219&#39; &#39;5&#39; &#39;47&#39; &#39;48&#39; &#39;25&#39; &#39;184&#39; &#39;209&#39;\n",
       " &#39;23&#39; &#39;31&#39; &#39;109&#39; &#39;216&#39; &#39;67&#39; &#39;54&#39; &#39;46&#39; &#39;92&#39; &#39;146&#39; &#39;191&#39; &#39;114&#39; &#39;172&#39; &#39;181&#39;\n",
       " &#39;1&#39; &#39;63&#39; &#39;13&#39; &#39;182&#39; &#39;213&#39; &#39;174&#39; &#39;77&#39; &#39;98&#39; &#39;126&#39; &#39;189&#39; &#39;136&#39; &#39;192&#39; &#39;187&#39;\n",
       " &#39;4&#39; &#39;28&#39; &#39;14&#39; &#39;106&#39; &#39;161&#39; &#39;197&#39; &#39;64&#39; &#39;75&#39; &#39;215&#39; &#39;194&#39; &#39;123&#39; &#39;76&#39; &#39;117&#39;\n",
       " &#39;72&#39; &#39;200&#39; &#39;65&#39; &#39;212&#39; &#39;37&#39; &#39;196&#39; &#39;198&#39; &#39;105&#39; &#39;128&#39; &#39;134&#39; &#39;79&#39; &#39;217&#39; &#39;10&#39;\n",
       " &#39;193&#39;]\n",
       "CityIdentifier  -  43382  -  [&#39;163158.0&#39; &#39;5699.0&#39; &#39;15201.0&#39; ... &#39;65336.0&#39; &#39;148860.0&#39; &#39;71557.0&#39;]\n",
       "OrganizationIdentifier  -  45  -  [&#39;27.0&#39; None &#39;18.0&#39; &#39;48.0&#39; &#39;50.0&#39; &#39;37.0&#39; &#39;14.0&#39; &#39;4.0&#39; &#39;47.0&#39; &#39;11.0&#39; &#39;49.0&#39;\n",
       " &#39;33.0&#39; &#39;1.0&#39; &#39;5.0&#39; &#39;36.0&#39; &#39;40.0&#39; &#39;32.0&#39; &#39;10.0&#39; &#39;46.0&#39; &#39;28.0&#39; &#39;3.0&#39; &#39;39.0&#39;\n",
       " &#39;52.0&#39; &#39;22.0&#39; &#39;44.0&#39; &#39;2.0&#39; &#39;42.0&#39; &#39;31.0&#39; &#39;45.0&#39; &#39;8.0&#39; &#39;20.0&#39; &#39;6.0&#39; &#39;7.0&#39;\n",
       " &#39;30.0&#39; &#39;51.0&#39; &#39;16.0&#39; &#39;21.0&#39; &#39;26.0&#39; &#39;19.0&#39; &#39;12.0&#39; &#39;43.0&#39; &#39;29.0&#39; &#39;35.0&#39;\n",
       " &#39;41.0&#39; &#39;25.0&#39;]\n",
       "GeoNameIdentifier  -  274  -  [&#39;53.0&#39; &#39;211.0&#39; &#39;277.0&#39; &#39;143.0&#39; &#39;98.0&#39; &#39;267.0&#39; &#39;181.0&#39; &#39;276.0&#39; &#39;45.0&#39;\n",
       " &#39;119.0&#39; &#39;35.0&#39; &#39;255.0&#39; &#39;258.0&#39; &#39;167.0&#39; &#39;201.0&#39; &#39;89.0&#39; &#39;192.0&#39; &#39;107.0&#39;\n",
       " &#39;117.0&#39; &#39;129.0&#39; &#39;205.0&#39; &#39;115.0&#39; &#39;39.0&#39; &#39;287.0&#39; &#39;237.0&#39; &#39;63.0&#39; &#39;184.0&#39;\n",
       " &#39;52.0&#39; &#39;204.0&#39; &#39;57.0&#39; &#39;202.0&#39; &#39;240.0&#39; &#39;138.0&#39; &#39;88.0&#39; &#39;101.0&#39; &#39;126.0&#39;\n",
       " &#39;10.0&#39; &#39;157.0&#39; &#39;230.0&#39; &#39;224.0&#39; &#39;122.0&#39; &#39;77.0&#39; &#39;187.0&#39; &#39;155.0&#39; &#39;274.0&#39;\n",
       " &#39;114.0&#39; &#39;209.0&#39; &#39;156.0&#39; &#39;19.0&#39; &#39;120.0&#39; &#39;233.0&#39; &#39;15.0&#39; &#39;121.0&#39; &#39;38.0&#39;\n",
       " &#39;76.0&#39; &#39;111.0&#39; &#39;25.0&#39; &#39;68.0&#39; &#39;125.0&#39; &#39;127.0&#39; &#39;123.0&#39; &#39;251.0&#39; &#39;252.0&#39;\n",
       " &#39;198.0&#39; &#39;275.0&#39; &#39;81.0&#39; &#39;282.0&#39; &#39;196.0&#39; &#39;21.0&#39; &#39;24.0&#39; &#39;78.0&#39; &#39;29.0&#39;\n",
       " &#39;194.0&#39; &#39;226.0&#39; &#39;133.0&#39; &#39;195.0&#39; &#39;90.0&#39; &#39;71.0&#39; &#39;32.0&#39; &#39;150.0&#39; &#39;16.0&#39;\n",
       " &#39;180.0&#39; &#39;165.0&#39; &#39;118.0&#39; &#39;234.0&#39; &#39;286.0&#39; &#39;266.0&#39; &#39;64.0&#39; &#39;160.0&#39; &#39;17.0&#39;\n",
       " &#39;246.0&#39; &#39;94.0&#39; &#39;91.0&#39; &#39;2.0&#39; &#39;145.0&#39; &#39;134.0&#39; &#39;75.0&#39; &#39;207.0&#39; &#39;67.0&#39; &#39;30.0&#39;\n",
       " &#39;18.0&#39; &#39;69.0&#39; &#39;186.0&#39; &#39;193.0&#39; &#39;154.0&#39; &#39;281.0&#39; &#39;33.0&#39; &#39;99.0&#39; &#39;273.0&#39;\n",
       " &#39;206.0&#39; &#39;135.0&#39; &#39;3.0&#39; &#39;213.0&#39; &#39;73.0&#39; &#39;151.0&#39; &#39;44.0&#39; &#39;185.0&#39; &#39;200.0&#39;\n",
       " &#39;295.0&#39; &#39;199.0&#39; &#39;244.0&#39; &#39;23.0&#39; &#39;140.0&#39; &#39;177.0&#39; &#39;170.0&#39; &#39;264.0&#39; &#39;152.0&#39;\n",
       " &#39;175.0&#39; &#39;144.0&#39; &#39;40.0&#39; &#39;158.0&#39; &#39;112.0&#39; &#39;104.0&#39; &#39;147.0&#39; &#39;183.0&#39; &#39;100.0&#39;\n",
       " &#39;241.0&#39; &#39;178.0&#39; &#39;208.0&#39; &#39;46.0&#39; &#39;257.0&#39; &#39;253.0&#39; &#39;66.0&#39; &#39;27.0&#39; &#39;97.0&#39; &#39;5.0&#39;\n",
       " &#39;59.0&#39; &#39;248.0&#39; &#39;1.0&#39; &#39;47.0&#39; &#39;283.0&#39; &#39;82.0&#39; &#39;48.0&#39; &#39;65.0&#39; &#39;293.0&#39; &#39;43.0&#39;\n",
       " &#39;11.0&#39; &#39;159.0&#39; &#39;263.0&#39; &#39;87.0&#39; &#39;6.0&#39; &#39;288.0&#39; &#39;153.0&#39; &#39;225.0&#39; &#39;12.0&#39;\n",
       " &#39;166.0&#39; &#39;269.0&#39; &#39;176.0&#39; &#39;28.0&#39; &#39;141.0&#39; &#39;9.0&#39; &#39;172.0&#39; &#39;142.0&#39; &#39;74.0&#39;\n",
       " &#39;22.0&#39; &#39;148.0&#39; &#39;163.0&#39; &#39;294.0&#39; &#39;296.0&#39; &#39;103.0&#39; &#39;247.0&#39; &#39;215.0&#39; &#39;171.0&#39;\n",
       " &#39;113.0&#39; &#39;70.0&#39; &#39;37.0&#39; &#39;105.0&#39; &#39;228.0&#39; &#39;232.0&#39; &#39;168.0&#39; &#39;102.0&#39; &#39;284.0&#39;\n",
       " &#39;212.0&#39; &#39;60.0&#39; &#39;271.0&#39; &#39;96.0&#39; &#39;242.0&#39; &#39;146.0&#39; &#39;227.0&#39; &#39;182.0&#39; &#39;173.0&#39;\n",
       " &#39;131.0&#39; &#39;243.0&#39; &#39;218.0&#39; &#39;256.0&#39; &#39;8.0&#39; &#39;222.0&#39; &#39;26.0&#39; &#39;50.0&#39; &#39;162.0&#39;\n",
       " &#39;109.0&#39; &#39;85.0&#39; &#39;164.0&#39; &#39;239.0&#39; &#39;86.0&#39; &#39;4.0&#39; &#39;49.0&#39; &#39;137.0&#39; &#39;80.0&#39; &#39;285.0&#39;\n",
       " &#39;174.0&#39; &#39;235.0&#39; &#39;268.0&#39; &#39;31.0&#39; &#39;58.0&#39; &#39;236.0&#39; &#39;223.0&#39; None &#39;149.0&#39;\n",
       " &#39;261.0&#39; &#39;41.0&#39; &#39;54.0&#39; &#39;128.0&#39; &#39;245.0&#39; &#39;289.0&#39; &#39;270.0&#39; &#39;291.0&#39; &#39;188.0&#39;\n",
       " &#39;161.0&#39; &#39;250.0&#39; &#39;259.0&#39; &#39;272.0&#39; &#39;42.0&#39; &#39;79.0&#39; &#39;216.0&#39; &#39;238.0&#39; &#39;110.0&#39;\n",
       " &#39;56.0&#39; &#39;262.0&#39; &#39;36.0&#39; &#39;179.0&#39; &#39;229.0&#39; &#39;7.0&#39; &#39;203.0&#39; &#39;214.0&#39; &#39;292.0&#39;\n",
       " &#39;108.0&#39; &#39;84.0&#39; &#39;278.0&#39; &#39;189.0&#39; &#39;191.0&#39; &#39;254.0&#39; &#39;190.0&#39; &#39;61.0&#39; &#39;221.0&#39;\n",
       " &#39;34.0&#39; &#39;139.0&#39; &#39;231.0&#39; &#39;93.0&#39; &#39;220.0&#39; &#39;169.0&#39; &#39;249.0&#39; &#39;265.0&#39; &#39;197.0&#39;]\n",
       "LocaleEnglishNameIdentifier  -  246  -  [&#39;42&#39; &#39;182&#39; &#39;75&#39; &#39;226&#39; &#39;103&#39; &#39;251&#39; &#39;56&#39; &#39;74&#39; &#39;60&#39; &#39;64&#39; &#39;171&#39; &#39;46&#39; &#39;227&#39;\n",
       " &#39;231&#39; &#39;88&#39; &#39;224&#39; &#39;115&#39; &#39;126&#39; &#39;172&#39; &#39;44&#39; &#39;34&#39; &#39;72&#39; &#39;219&#39; &#39;217&#39; &#39;170&#39; &#39;218&#39;\n",
       " &#39;70&#39; &#39;233&#39; &#39;134&#39; &#39;80&#39; &#39;107&#39; &#39;124&#39; &#39;214&#39; &#39;68&#39; &#39;71&#39; &#39;162&#39; &#39;16&#39; &#39;7&#39; &#39;253&#39;\n",
       " &#39;225&#39; &#39;179&#39; &#39;118&#39; &#39;262&#39; &#39;210&#39; &#39;58&#39; &#39;168&#39; &#39;69&#39; &#39;222&#39; &#39;246&#39; &#39;83&#39; &#39;59&#39; &#39;51&#39;\n",
       " &#39;113&#39; &#39;67&#39; &#39;66&#39; &#39;278&#39; &#39;229&#39; &#39;77&#39; &#39;236&#39; &#39;81&#39; &#39;8&#39; &#39;215&#39; &#39;277&#39; &#39;52&#39; &#39;223&#39;\n",
       " &#39;97&#39; &#39;32&#39; &#39;140&#39; &#39;102&#39; &#39;116&#39; &#39;211&#39; &#39;237&#39; &#39;36&#39; &#39;106&#39; &#39;149&#39; &#39;55&#39; &#39;61&#39; &#39;239&#39;\n",
       " &#39;49&#39; &#39;221&#39; &#39;216&#39; &#39;90&#39; &#39;14&#39; &#39;266&#39; &#39;235&#39; &#39;232&#39; &#39;169&#39; &#39;82&#39; &#39;234&#39; &#39;9&#39; &#39;65&#39;\n",
       " &#39;129&#39; &#39;228&#39; &#39;230&#39; &#39;76&#39; &#39;10&#39; &#39;263&#39; &#39;29&#39; &#39;73&#39; &#39;202&#39; &#39;45&#39; &#39;139&#39; &#39;181&#39; &#39;63&#39;\n",
       " &#39;25&#39; &#39;15&#39; &#39;94&#39; &#39;95&#39; &#39;5&#39; &#39;101&#39; &#39;147&#39; &#39;105&#39; &#39;178&#39; &#39;183&#39; &#39;161&#39; &#39;265&#39; &#39;21&#39;\n",
       " &#39;91&#39; &#39;92&#39; &#39;22&#39; &#39;100&#39; &#39;144&#39; &#39;96&#39; &#39;160&#39; &#39;79&#39; &#39;11&#39; &#39;125&#39; &#39;19&#39; &#39;154&#39; &#39;50&#39;\n",
       " &#39;43&#39; &#39;17&#39; &#39;93&#39; &#39;12&#39; &#39;20&#39; &#39;114&#39; &#39;1&#39; &#39;269&#39; &#39;18&#39; &#39;142&#39; &#39;2&#39; &#39;238&#39; &#39;201&#39; &#39;283&#39;\n",
       " &#39;271&#39; &#39;13&#39; &#39;6&#39; &#39;199&#39; &#39;159&#39; &#39;85&#39; &#39;157&#39; &#39;30&#39; &#39;186&#39; &#39;143&#39; &#39;33&#39; &#39;282&#39; &#39;192&#39;\n",
       " &#39;198&#39; &#39;87&#39; &#39;260&#39; &#39;205&#39; &#39;180&#39; &#39;123&#39; &#39;62&#39; &#39;276&#39; &#39;272&#39; &#39;166&#39; &#39;104&#39; &#39;163&#39; &#39;3&#39;\n",
       " &#39;174&#39; &#39;243&#39; &#39;209&#39; &#39;164&#39; &#39;26&#39; &#39;24&#39; &#39;194&#39; &#39;274&#39; &#39;89&#39; &#39;23&#39; &#39;200&#39; &#39;240&#39; &#39;245&#39;\n",
       " &#39;208&#39; &#39;196&#39; &#39;155&#39; &#39;132&#39; &#39;27&#39; &#39;197&#39; &#39;78&#39; &#39;220&#39; &#39;35&#39; &#39;121&#39; &#39;48&#39; &#39;31&#39; &#39;84&#39;\n",
       " &#39;109&#39; &#39;242&#39; &#39;188&#39; &#39;273&#39; &#39;150&#39; &#39;112&#39; &#39;212&#39; &#39;119&#39; &#39;4&#39; &#39;280&#39; &#39;267&#39; &#39;130&#39;\n",
       " &#39;136&#39; &#39;173&#39; &#39;255&#39; &#39;110&#39; &#39;177&#39; &#39;54&#39; &#39;145&#39; &#39;117&#39; &#39;40&#39; &#39;270&#39; &#39;148&#39; &#39;47&#39;\n",
       " &#39;184&#39; &#39;175&#39; &#39;158&#39; &#39;141&#39; &#39;176&#39; &#39;108&#39; &#39;39&#39; &#39;252&#39; &#39;248&#39; &#39;53&#39; &#39;135&#39; &#39;98&#39;\n",
       " &#39;167&#39; &#39;241&#39; &#39;187&#39; &#39;111&#39; &#39;127&#39; &#39;189&#39; &#39;86&#39; &#39;131&#39; &#39;38&#39; &#39;138&#39; &#39;152&#39; &#39;185&#39;\n",
       " &#39;133&#39; &#39;275&#39;]\n",
       "Platform  -  4  -  [&#39;windows8&#39; &#39;windows10&#39; &#39;windows2016&#39; &#39;windows7&#39;]\n",
       "Processor  -  3  -  [&#39;x64&#39; &#39;x86&#39; &#39;arm64&#39;]\n",
       "OsVer  -  16  -  [&#39;6.3.0.0&#39; &#39;10.0.0.0&#39; &#39;6.1.1.0&#39; &#39;10.0.3.0&#39; &#39;6.1.0.0&#39; &#39;10.0.1.0&#39; &#39;10.0.2.0&#39;\n",
       " &#39;6.1.3.0&#39; &#39;10.0.5.18&#39; &#39;6.3.1.0&#39; &#39;10.0.4.0&#39; &#39;10.0.3.80&#39; &#39;10.0.0.1&#39;\n",
       " &#39;6.3.3.0&#39; &#39;6.3.7.0&#39; &#39;10.0.80.0&#39;]\n",
       "OsBuild  -  51  -  [&#39;9600&#39; &#39;16299&#39; &#39;15063&#39; &#39;14393&#39; &#39;17134&#39; &#39;10240&#39; &#39;10586&#39; &#39;7601&#39; &#39;17672&#39;\n",
       " &#39;17751&#39; &#39;17738&#39; &#39;17735&#39; &#39;17755&#39; &#39;17758&#39; &#39;17733&#39; &#39;17754&#39; &#39;17692&#39; &#39;17744&#39;\n",
       " &#39;17763&#39; &#39;7600&#39; &#39;17713&#39; &#39;17746&#39; &#39;17686&#39; &#39;17741&#39; &#39;17760&#39; &#39;17682&#39; &#39;18237&#39;\n",
       " &#39;17677&#39; &#39;18234&#39; &#39;17634&#39; &#39;18236&#39; &#39;17661&#39; &#39;17666&#39; &#39;17627&#39; &#39;17730&#39; &#39;17704&#39;\n",
       " &#39;18242&#39; &#39;17655&#39; &#39;17639&#39; &#39;17728&#39; &#39;18204&#39; &#39;18214&#39; &#39;17711&#39; &#39;17133&#39; &#39;18219&#39;\n",
       " &#39;17650&#39; &#39;17747&#39; &#39;17740&#39; &#39;17723&#39; &#39;17750&#39; &#39;17618&#39;]\n",
       "</div>"
      ]
     },
     "metadata": {},
     "output_type": "display_data"
    }
   ],
   "source": [
    "for c in df_EDA_pd:\n",
    "  print(c,' - ',len(df_EDA_pd[c].unique()),' - ',df_EDA_pd[c].unique())"
   ]
  },
  {
   "cell_type": "code",
   "execution_count": 12,
   "metadata": {},
   "outputs": [
    {
     "data": {
      "text/html": [
       "<style scoped>\n",
       "  .ansiout {\n",
       "    display: block;\n",
       "    unicode-bidi: embed;\n",
       "    white-space: pre-wrap;\n",
       "    word-wrap: break-word;\n",
       "    word-break: break-all;\n",
       "    font-family: \"Source Code Pro\", \"Menlo\", monospace;;\n",
       "    font-size: 13px;\n",
       "    color: #555;\n",
       "    margin-left: 4px;\n",
       "    line-height: 19px;\n",
       "  }\n",
       "</style>\n",
       "<div class=\"ansiout\">(&#39;IsBeta&#39;, 99.99942857142857)\n",
       "(&#39;ProductName&#39;, 98.94085714285714)\n",
       "(&#39;HasTpm&#39;, 98.79928571428572)\n",
       "(&#39;IsSxsPassiveMode&#39;, 98.26985714285715)\n",
       "(&#39;AVProductsEnabled&#39;, 96.99042857142857)\n",
       "(&#39;RtpStateBitfield&#39;, 96.97085714285714)\n",
       "(&#39;OsVer&#39;, 96.748)\n",
       "(&#39;Platform&#39;, 96.5927142857143)\n",
       "(&#39;Processor&#39;, 90.84028571428571)\n",
       "(&#39;AVProductsInstalled&#39;, 69.50328571428571)\n",
       "(&#39;AVProductStatesIdentifier&#39;, 65.19985714285714)\n",
       "(&#39;AppVersion&#39;, 57.58985714285715)\n",
       "(&#39;HasDetections&#39;, 50.020428571428575)\n",
       "(&#39;OrganizationIdentifier&#39;, 47.057)\n",
       "(&#39;OsBuild&#39;, 43.811)\n",
       "(&#39;EngineVersion&#39;, 43.15714285714286)\n",
       "(&#39;LocaleEnglishNameIdentifier&#39;, 23.464428571428574)\n",
       "(&#39;GeoNameIdentifier&#39;, 17.16614285714286)\n",
       "(&#39;CountryIdentifier&#39;, 4.4319999999999995)\n",
       "(&#39;CityIdentifier&#39;, 3.6609999999999996)\n",
       "(&#39;AvSigVersion&#39;, 1.1554285714285715)\n",
       "(&#39;MachineIdentifier&#39;, 0.00014285714285714287)\n",
       "</div>"
      ]
     },
     "metadata": {},
     "output_type": "display_data"
    }
   ],
   "source": [
    "dict={c:df_EDA_pd[c].value_counts(normalize=True, dropna=False)[0]*100 for c in df_EDA_pd}\n",
    "sorted_dict = sorted(dict.items(), key=lambda kv: kv[1] ,reverse=True)\n",
    "for ele in sorted_dict:\n",
    "  print(ele)"
   ]
  },
  {
   "cell_type": "code",
   "execution_count": 13,
   "metadata": {},
   "outputs": [
    {
     "data": {
      "text/html": [
       "<style scoped>\n",
       "  .ansiout {\n",
       "    display: block;\n",
       "    unicode-bidi: embed;\n",
       "    white-space: pre-wrap;\n",
       "    word-wrap: break-word;\n",
       "    word-break: break-all;\n",
       "    font-family: \"Source Code Pro\", \"Menlo\", monospace;;\n",
       "    font-size: 13px;\n",
       "    color: #555;\n",
       "    margin-left: 4px;\n",
       "    line-height: 19px;\n",
       "  }\n",
       "</style>\n",
       "<div class=\"ansiout\"></div>"
      ]
     },
     "metadata": {},
     "output_type": "display_data"
    }
   ],
   "source": [
    "df_EDA_pd = df_EDA_pd.drop(columns=['IsBeta','ProductName','HasTpm','IsSxsPassiveMode','AVProductsEnabled','RtpStateBitfield','OsVer','Platform',\n",
    "                                   'Processor'])"
   ]
  },
  {
   "cell_type": "code",
   "execution_count": 14,
   "metadata": {},
   "outputs": [
    {
     "data": {
      "text/html": [
       "<style scoped>\n",
       "  .ansiout {\n",
       "    display: block;\n",
       "    unicode-bidi: embed;\n",
       "    white-space: pre-wrap;\n",
       "    word-wrap: break-word;\n",
       "    word-break: break-all;\n",
       "    font-family: \"Source Code Pro\", \"Menlo\", monospace;;\n",
       "    font-size: 13px;\n",
       "    color: #555;\n",
       "    margin-left: 4px;\n",
       "    line-height: 19px;\n",
       "  }\n",
       "</style>\n",
       "<div class=\"ansiout\"></div>"
      ]
     },
     "metadata": {},
     "output_type": "display_data"
    }
   ],
   "source": [
    "def plot_catgeorical(col):\n",
    "  top_20 = 20 if df_EDA_pd[col].nunique() > 20 else df_EDA_pd[col].nunique()\n",
    "  dist_data = pd.concat([df_EDA_pd [df_EDA_pd.HasDetections == '1'].groupby(col)[col].count()\n",
    "                     ,df_EDA_pd [df_EDA_pd.HasDetections == '0'].groupby(col)[col].count()],axis=1)\n",
    "  col1,col2 = (col+'_Yes'),(col+'_No')\n",
    "  dist_data.columns = [(col+'_Yes'),(col+'_No')]\n",
    "  dist_data['total'] = dist_data[col1]+dist_data[col2]\n",
    "  dist_data = dist_data.sort_values('total', ascending=False).head(top_20).sort_index()\n",
    "  dist_data_Yes = dist_data[col1]/dist_data['total']\n",
    "  dist_data_No = dist_data[col2]/dist_data['total']\n",
    "      \n",
    "  x = np.arange(len(dist_data))\n",
    "  width = 0.35\n",
    "  \n",
    "  plt.rcParams['xtick.bottom'] = plt.rcParams['xtick.labelbottom'] = True\n",
    "  plt.rcParams['xtick.top'] = plt.rcParams['xtick.labeltop'] = True\n",
    "  \n",
    "  fig, ax = plt.subplots(figsize=(7, 7))\n",
    "  ax.barh(x - width/2, dist_data_Yes, width, label='Yes')\n",
    "  ax.barh(x + width/2, dist_data_No, width, label='No')\n",
    "\n",
    "  ax.set_xlabel('Count')\n",
    "  ax.xaxis.set_ticks_position('both')\n",
    "  ax.set_ylabel(col)\n",
    "  title = 'HasDetections by '+col+'(unique values = '+str(df_EDA_pd[col].nunique())+')'\n",
    "  ax.set_title(title,pad=30)\n",
    "  ax.set_yticks(x)\n",
    "  ax.set_yticklabels(dist_data.index)\n",
    "  ax.legend()\n",
    "\n",
    "  fig.tight_layout()\n",
    "  plt.show()\n",
    "  display()"
   ]
  },
  {
   "cell_type": "code",
   "execution_count": 15,
   "metadata": {},
   "outputs": [],
   "source": [
    "plot_catgeorical('EngineVersion')"
   ]
  },
  {
   "cell_type": "code",
   "execution_count": 16,
   "metadata": {},
   "outputs": [],
   "source": [
    "plot_catgeorical('AppVersion')"
   ]
  },
  {
   "cell_type": "code",
   "execution_count": 17,
   "metadata": {},
   "outputs": [],
   "source": [
    "plot_catgeorical('AvSigVersion')"
   ]
  },
  {
   "cell_type": "code",
   "execution_count": 18,
   "metadata": {},
   "outputs": [],
   "source": [
    "plot_catgeorical('AVProductStatesIdentifier')"
   ]
  },
  {
   "cell_type": "code",
   "execution_count": 19,
   "metadata": {},
   "outputs": [],
   "source": [
    "plot_catgeorical('AVProductsInstalled')"
   ]
  },
  {
   "cell_type": "code",
   "execution_count": 20,
   "metadata": {},
   "outputs": [],
   "source": [
    "plot_catgeorical('CountryIdentifier')"
   ]
  },
  {
   "cell_type": "code",
   "execution_count": 21,
   "metadata": {},
   "outputs": [],
   "source": [
    "plot_catgeorical('CityIdentifier')"
   ]
  },
  {
   "cell_type": "code",
   "execution_count": 22,
   "metadata": {},
   "outputs": [],
   "source": [
    "plot_catgeorical('GeoNameIdentifier')"
   ]
  },
  {
   "cell_type": "code",
   "execution_count": 23,
   "metadata": {},
   "outputs": [],
   "source": [
    "plot_catgeorical('LocaleEnglishNameIdentifier')"
   ]
  },
  {
   "cell_type": "code",
   "execution_count": 24,
   "metadata": {},
   "outputs": [],
   "source": [
    "plot_catgeorical('OsBuild')"
   ]
  }
 ],
 "metadata": {
  "kernelspec": {
   "display_name": "Python 3",
   "language": "python",
   "name": "python3"
  },
  "language_info": {
   "codemirror_mode": {
    "name": "ipython",
    "version": 3
   },
   "file_extension": ".py",
   "mimetype": "text/x-python",
   "name": "python",
   "nbconvert_exporter": "python",
   "pygments_lexer": "ipython3",
   "version": "3.6.5"
  },
  "name": "BDA Project",
  "notebookId": 2166878498292126
 },
 "nbformat": 4,
 "nbformat_minor": 1
}
